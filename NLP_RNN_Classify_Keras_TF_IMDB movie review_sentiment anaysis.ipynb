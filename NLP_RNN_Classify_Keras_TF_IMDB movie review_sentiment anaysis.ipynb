{
  "cells": [
    {
      "cell_type": "markdown",
      "metadata": {
        "colab_type": "text",
        "id": "view-in-github"
      },
      "source": [
        "<a href=\"https://colab.research.google.com/github/aimlc/Deep_Learning/blob/main/text_classification_rnn.ipynb\" target=\"_parent\"><img src=\"https://colab.research.google.com/assets/colab-badge.svg\" alt=\"Open In Colab\"/></a>"
      ]
    },
    {
      "cell_type": "markdown",
      "metadata": {
        "id": "hX4n9TsbGw-f"
      },
      "source": [
        "##### Copyright 2018 The TensorFlow Authors."
      ]
    },
    {
      "cell_type": "code",
      "execution_count": 1,
      "metadata": {
        "cellView": "form",
        "id": "0nbI5DtDGw-i"
      },
      "outputs": [],
      "source": [
        "#@title Licensed under the Apache License, Version 2.0 (the \"License\");\n",
        "# you may not use this file except in compliance with the License.\n",
        "# You may obtain a copy of the License at\n",
        "#\n",
        "# https://www.apache.org/licenses/LICENSE-2.0\n",
        "#\n",
        "# Unless required by applicable law or agreed to in writing, software\n",
        "# distributed under the License is distributed on an \"AS IS\" BASIS,\n",
        "# WITHOUT WARRANTIES OR CONDITIONS OF ANY KIND, either express or implied.\n",
        "# See the License for the specific language governing permissions and\n",
        "# limitations under the License."
      ]
    },
    {
      "cell_type": "markdown",
      "metadata": {
        "id": "9TnJztDZGw-n"
      },
      "source": [
        "# Text classification with an RNN"
      ]
    },
    {
      "cell_type": "markdown",
      "metadata": {
        "id": "_2VQo4bajwUU"
      },
      "source": [
        "## Setup"
      ]
    },
    {
      "cell_type": "code",
      "execution_count": 2,
      "metadata": {
        "id": "z682XYsrjkY9"
      },
      "outputs": [],
      "source": [
        "import numpy as np\n",
        "\n",
        "import tensorflow_datasets as tfds\n",
        "import tensorflow as tf\n",
        "\n",
        "tfds.disable_progress_bar()"
      ]
    },
    {
      "cell_type": "markdown",
      "metadata": {
        "id": "1rXHa-w9JZhb"
      },
      "source": [
        "Import `matplotlib` and create a helper function to plot graphs:"
      ]
    },
    {
      "cell_type": "code",
      "execution_count": 3,
      "metadata": {
        "id": "Mp1Z7P9pYRSK"
      },
      "outputs": [],
      "source": [
        "import matplotlib.pyplot as plt\n",
        "\n",
        "\n",
        "def plot_graphs(history, metric):\n",
        "  plt.plot(history.history[metric])\n",
        "  plt.plot(history.history['val_'+metric], '')\n",
        "  plt.xlabel(\"Epochs\")\n",
        "  plt.ylabel(metric)\n",
        "  plt.legend([metric, 'val_'+metric])"
      ]
    },
    {
      "cell_type": "markdown",
      "metadata": {
        "id": "pRmMubr0jrE2"
      },
      "source": [
        "## Setup input pipeline\n",
        "\n",
        "\n",
        "The IMDB large movie review dataset is a *binary classification* dataset—all the reviews have either a *positive* or *negative* sentiment.\n",
        "\n",
        "Download the dataset using [TFDS](https://www.tensorflow.org/datasets). See the [loading text tutorial](https://www.tensorflow.org/tutorials/load_data/text) for details on how to load this sort of data manually.\n"
      ]
    },
    {
      "cell_type": "code",
      "execution_count": 4,
      "metadata": {
        "colab": {
          "base_uri": "https://localhost:8080/"
        },
        "id": "SHRwRoP2nVHX",
        "outputId": "45e57b37-109c-4a25-f690-e3fbfa1a1266"
      },
      "outputs": [
        {
          "name": "stdout",
          "output_type": "stream",
          "text": [
            "Downloading and preparing dataset 80.23 MiB (download: 80.23 MiB, generated: Unknown size, total: 80.23 MiB) to /root/tensorflow_datasets/imdb_reviews/plain_text/1.0.0...\n",
            "Dataset imdb_reviews downloaded and prepared to /root/tensorflow_datasets/imdb_reviews/plain_text/1.0.0. Subsequent calls will reuse this data.\n"
          ]
        },
        {
          "data": {
            "text/plain": [
              "(TensorSpec(shape=(), dtype=tf.string, name=None),\n",
              " TensorSpec(shape=(), dtype=tf.int64, name=None))"
            ]
          },
          "execution_count": 4,
          "metadata": {},
          "output_type": "execute_result"
        }
      ],
      "source": [
        "dataset, info = tfds.load('imdb_reviews', with_info=True,\n",
        "                          as_supervised=True)\n",
        "train_dataset, test_dataset = dataset['train'], dataset['test']\n",
        "\n",
        "train_dataset.element_spec"
      ]
    },
    {
      "cell_type": "markdown",
      "metadata": {
        "id": "nWA4c2ir7g6p"
      },
      "source": [
        "Initially this returns a dataset of (text, label pairs):"
      ]
    },
    {
      "cell_type": "code",
      "execution_count": 5,
      "metadata": {
        "colab": {
          "base_uri": "https://localhost:8080/"
        },
        "id": "vd4_BGKyurao",
        "outputId": "f8efc7fd-c67e-438e-d191-43a53f5bc5df"
      },
      "outputs": [
        {
          "name": "stdout",
          "output_type": "stream",
          "text": [
            "text:  b\"This was an absolutely terrible movie. Don't be lured in by Christopher Walken or Michael Ironside. Both are great actors, but this must simply be their worst role in history. Even their great acting could not redeem this movie's ridiculous storyline. This movie is an early nineties US propaganda piece. The most pathetic scenes were those when the Columbian rebels were making their cases for revolutions. Maria Conchita Alonso appeared phony, and her pseudo-love affair with Walken was nothing but a pathetic emotional plug in a movie that was devoid of any real meaning. I am disappointed that there are movies like this, ruining actor's like Christopher Walken's good name. I could barely sit through it.\"\n",
            "label:  0\n"
          ]
        }
      ],
      "source": [
        "for example, label in train_dataset.take(1):\n",
        "  print('text: ', example.numpy())\n",
        "  print('label: ', label.numpy())"
      ]
    },
    {
      "cell_type": "markdown",
      "metadata": {
        "id": "z2qVJzcEluH_"
      },
      "source": [
        "Next shuffle the data for training and create batches of these `(text, label)` pairs:"
      ]
    },
    {
      "cell_type": "code",
      "execution_count": 6,
      "metadata": {
        "id": "dDsCaZCDYZgm"
      },
      "outputs": [],
      "source": [
        "BUFFER_SIZE = 10000\n",
        "BATCH_SIZE = 64"
      ]
    },
    {
      "cell_type": "code",
      "execution_count": 7,
      "metadata": {
        "id": "VznrltNOnUc5"
      },
      "outputs": [],
      "source": [
        "train_dataset = train_dataset.shuffle(BUFFER_SIZE).batch(BATCH_SIZE).prefetch(tf.data.AUTOTUNE)\n",
        "test_dataset = test_dataset.batch(BATCH_SIZE).prefetch(tf.data.AUTOTUNE)"
      ]
    },
    {
      "cell_type": "code",
      "execution_count": 8,
      "metadata": {
        "colab": {
          "base_uri": "https://localhost:8080/"
        },
        "id": "jqkvdcFv41wC",
        "outputId": "5351e9cd-cdc8-42fc-8da6-1eb61ec2ef3f"
      },
      "outputs": [
        {
          "name": "stdout",
          "output_type": "stream",
          "text": [
            "texts:  [b'This series had potential, but I suppose the budget wouldn\\'t allow it to see that potential. An interesting setup, not dissimilar to \"lost\" it falls flat after the 1st episode. The whole series, 6 episodes, could have made a compelling 90 minute film, but the makers chose to drag it on and on. Many of the scenes were unbearably slow and long without moving the action forward. The music was very annoying and did not work overall. There were few characters we cared about as their characters did not grow during the time frame--- well, one grew a bit. The ending was as terrible as the rest of series. The only kudos here is to the art dept and set dressers, they created an interesting look, too bad the writer and director lacked the foresight to do something interesting with that element'\n",
            " b\"I saw this show about 3-4 years ago. It was dam Funny! When i first time i saw it was playing on ETV(Estonian Television) And i started to like it. Too bad that that show is on bad time for me. Hyde is like a cool guy who likes to sing Frank Sinatra! And he comes on stupid ideas. He got these glasses which h are brown. I like it . And there's FeZ. The group Pervert. We all know what he does when his alone..... He wants to get laid badly. He even had it with his boss in one episode.His from India. And there is Michael , The stupidest guy on whole group , probably stupidest in town and his a cop! He is so stupid that i remember follows: Hyde says: Did u called cops ? - No Michael comes in and says. Does anyone know how to turn off siren? He is a town playboy. Then comes Jackie , who is former girlfriend of Michael and then she's Hyde's girlfriend. Then is Eric Who's son of grumpy war veteran and son of Kitty the housewife. His one big pussy. But he loves Donna , his girlfriend with who they plan for they're marriage. Donna is one hot girl. Hmm what i forget? ah Hyde lives in a basement .\"\n",
            " b'The film exposes the blatant exploitation of the Chinese worker - generally female - garnering footage from the Chinese business owner who shares his unashamed and delusional viewpoint, his American counterpart also as unashamed and delusional, the oppressed workers who are given a voice and, of course, the drunken Americans who wear the beaded necklaces mindlessly celebrating in New Orleans. <br /><br />The glimmer of hope comes when some Americans are actually outraged that people making their beaded necklaces were getting paid like $0.10 per hour to do so. You also have a feeling that the workers may have a chance to escape working in the bead factory, but will probably do so when they get fed up with the punishment treatment popular with the factory owner and/or they just get too exhausted to work up to 20 hours a day of hard labor.<br /><br />I have wondered where those necklaces came from, not realizing how completely grueling and arduous it would be to make them. I just truly appreciated this film as it beautifully portrays the impact American indulgence has over something we consider relatively innocuous in our society on peoples on the other side of the world. Honorable mention goes to Wal-Mart. It is simply amazing. And clearly, just the tip of the iceberg!']\n",
            "\n",
            "labels:  [0 1 1]\n"
          ]
        }
      ],
      "source": [
        "for example, label in train_dataset.take(1):\n",
        "  print('texts: ', example.numpy()[:3])\n",
        "  print()\n",
        "  print('labels: ', label.numpy()[:3])"
      ]
    },
    {
      "cell_type": "markdown",
      "metadata": {
        "id": "s5eWCo88voPY"
      },
      "source": [
        "## Create the text encoder"
      ]
    },
    {
      "cell_type": "markdown",
      "metadata": {
        "id": "TFevcItw15P_"
      },
      "source": [
        "The raw text loaded by `tfds` needs to be processed before it can be used in a model. The simplest way to process text for training is using the `TextVectorization` layer. This layer has many capabilities, but this tutorial sticks to the default behavior.\n",
        "\n",
        "Create the layer, and pass the dataset's text to the layer's `.adapt` method:"
      ]
    },
    {
      "cell_type": "code",
      "execution_count": 9,
      "metadata": {
        "id": "uC25Lu1Yvuqy"
      },
      "outputs": [],
      "source": [
        "VOCAB_SIZE = 1000\n",
        "encoder = tf.keras.layers.TextVectorization(\n",
        "    max_tokens=VOCAB_SIZE)\n",
        "encoder.adapt(train_dataset.map(lambda text, label: text))"
      ]
    },
    {
      "cell_type": "markdown",
      "metadata": {
        "id": "IuQzVBbe3Ldu"
      },
      "source": [
        "The `.adapt` method sets the layer's vocabulary. Here are the first 20 tokens. After the padding and unknown tokens they're sorted by frequency:"
      ]
    },
    {
      "cell_type": "code",
      "execution_count": 10,
      "metadata": {
        "colab": {
          "base_uri": "https://localhost:8080/"
        },
        "id": "tBoyjjWg0Ac9",
        "outputId": "1228c8eb-a2dc-4a4b-d5ec-24a2b6a5dc07"
      },
      "outputs": [
        {
          "data": {
            "text/plain": [
              "array(['', '[UNK]', 'the', 'and', 'a', 'of', 'to', 'is', 'in', 'it', 'i',\n",
              "       'this', 'that', 'br', 'was', 'as', 'for', 'with', 'movie', 'but'],\n",
              "      dtype='<U14')"
            ]
          },
          "execution_count": 10,
          "metadata": {},
          "output_type": "execute_result"
        }
      ],
      "source": [
        "vocab = np.array(encoder.get_vocabulary())\n",
        "vocab[:20]"
      ]
    },
    {
      "cell_type": "markdown",
      "metadata": {
        "id": "mjId5pua3jHQ"
      },
      "source": [
        "Once the vocabulary is set, the layer can encode text into indices. The tensors of indices are 0-padded to the longest sequence in the batch (unless you set a fixed `output_sequence_length`):"
      ]
    },
    {
      "cell_type": "code",
      "execution_count": 11,
      "metadata": {
        "colab": {
          "base_uri": "https://localhost:8080/"
        },
        "id": "RGc7C9WiwRWs",
        "outputId": "eab9571e-d466-4839-d271-fffa330634a3"
      },
      "outputs": [
        {
          "data": {
            "text/plain": [
              "array([[ 11, 204,  67, ...,   0,   0,   0],\n",
              "       [ 10, 208,  11, ...,   0,   0,   0],\n",
              "       [  2,  20,   1, ...,   0,   0,   0]])"
            ]
          },
          "execution_count": 11,
          "metadata": {},
          "output_type": "execute_result"
        }
      ],
      "source": [
        "encoded_example = encoder(example)[:3].numpy()\n",
        "encoded_example"
      ]
    },
    {
      "cell_type": "markdown",
      "metadata": {
        "id": "F5cjz0bS39IN"
      },
      "source": [
        "With the default settings, the process is not completely reversible. There are three main reasons for that:\n",
        "\n",
        "1. The default value for `preprocessing.TextVectorization`'s `standardize` argument is `\"lower_and_strip_punctuation\"`.\n",
        "2. The limited vocabulary size and lack of character-based fallback results in some unknown tokens."
      ]
    },
    {
      "cell_type": "code",
      "execution_count": 12,
      "metadata": {
        "colab": {
          "base_uri": "https://localhost:8080/"
        },
        "id": "N_tD0QY5wXaK",
        "outputId": "dc9779d4-43d4-4fef-ad36-71dbb29e988d"
      },
      "outputs": [
        {
          "name": "stdout",
          "output_type": "stream",
          "text": [
            "Original:  b'This series had potential, but I suppose the budget wouldn\\'t allow it to see that potential. An interesting setup, not dissimilar to \"lost\" it falls flat after the 1st episode. The whole series, 6 episodes, could have made a compelling 90 minute film, but the makers chose to drag it on and on. Many of the scenes were unbearably slow and long without moving the action forward. The music was very annoying and did not work overall. There were few characters we cared about as their characters did not grow during the time frame--- well, one grew a bit. The ending was as terrible as the rest of series. The only kudos here is to the art dept and set dressers, they created an interesting look, too bad the writer and director lacked the foresight to do something interesting with that element'\n",
            "Round-trip:  this series had potential but i [UNK] the budget wouldnt [UNK] it to see that potential an interesting [UNK] not [UNK] to lost it falls [UNK] after the [UNK] episode the whole series [UNK] episodes could have made a [UNK] [UNK] minute film but the [UNK] [UNK] to [UNK] it on and on many of the scenes were [UNK] slow and long without moving the action forward the music was very annoying and did not work overall there were few characters we [UNK] about as their characters did not [UNK] during the time [UNK] well one [UNK] a bit the ending was as terrible as the rest of series the only [UNK] here is to the art [UNK] and set [UNK] they [UNK] an interesting look too bad the writer and director [UNK] the [UNK] to do something interesting with that [UNK]                                                                                                                                                                                                                                                                                                                                                                                                                                                                                                                                                                                                                                                                                                                                                                                                \n",
            "\n",
            "Original:  b\"I saw this show about 3-4 years ago. It was dam Funny! When i first time i saw it was playing on ETV(Estonian Television) And i started to like it. Too bad that that show is on bad time for me. Hyde is like a cool guy who likes to sing Frank Sinatra! And he comes on stupid ideas. He got these glasses which h are brown. I like it . And there's FeZ. The group Pervert. We all know what he does when his alone..... He wants to get laid badly. He even had it with his boss in one episode.His from India. And there is Michael , The stupidest guy on whole group , probably stupidest in town and his a cop! He is so stupid that i remember follows: Hyde says: Did u called cops ? - No Michael comes in and says. Does anyone know how to turn off siren? He is a town playboy. Then comes Jackie , who is former girlfriend of Michael and then she's Hyde's girlfriend. Then is Eric Who's son of grumpy war veteran and son of Kitty the housewife. His one big pussy. But he loves Donna , his girlfriend with who they plan for they're marriage. Donna is one hot girl. Hmm what i forget? ah Hyde lives in a basement .\"\n",
            "Round-trip:  i saw this show about [UNK] years ago it was [UNK] funny when i first time i saw it was playing on [UNK] television and i started to like it too bad that that show is on bad time for me [UNK] is like a cool guy who [UNK] to [UNK] [UNK] [UNK] and he comes on stupid ideas he got these [UNK] which [UNK] are [UNK] i like it and theres [UNK] the group [UNK] we all know what he does when his alone he wants to get [UNK] badly he even had it with his [UNK] in one [UNK] from [UNK] and there is michael the [UNK] guy on whole group probably [UNK] in town and his a [UNK] he is so stupid that i remember [UNK] [UNK] says did [UNK] called [UNK] no michael comes in and says does anyone know how to turn off [UNK] he is a town [UNK] then comes [UNK] who is [UNK] [UNK] of michael and then shes [UNK] [UNK] then is [UNK] whos son of [UNK] war [UNK] and son of [UNK] the [UNK] his one big [UNK] but he [UNK] [UNK] his [UNK] with who they [UNK] for theyre [UNK] [UNK] is one hot girl [UNK] what i forget [UNK] [UNK] lives in a [UNK]                                                                                                                                                                                                                                                                                                                                                                                                                                                                                                                                                                                                                                                                                                                       \n",
            "\n",
            "Original:  b'The film exposes the blatant exploitation of the Chinese worker - generally female - garnering footage from the Chinese business owner who shares his unashamed and delusional viewpoint, his American counterpart also as unashamed and delusional, the oppressed workers who are given a voice and, of course, the drunken Americans who wear the beaded necklaces mindlessly celebrating in New Orleans. <br /><br />The glimmer of hope comes when some Americans are actually outraged that people making their beaded necklaces were getting paid like $0.10 per hour to do so. You also have a feeling that the workers may have a chance to escape working in the bead factory, but will probably do so when they get fed up with the punishment treatment popular with the factory owner and/or they just get too exhausted to work up to 20 hours a day of hard labor.<br /><br />I have wondered where those necklaces came from, not realizing how completely grueling and arduous it would be to make them. I just truly appreciated this film as it beautifully portrays the impact American indulgence has over something we consider relatively innocuous in our society on peoples on the other side of the world. Honorable mention goes to Wal-Mart. It is simply amazing. And clearly, just the tip of the iceberg!'\n",
            "Round-trip:  the film [UNK] the [UNK] [UNK] of the [UNK] [UNK] [UNK] female [UNK] footage from the [UNK] business [UNK] who [UNK] his [UNK] and [UNK] [UNK] his american [UNK] also as [UNK] and [UNK] the [UNK] [UNK] who are given a voice and of course the [UNK] [UNK] who [UNK] the [UNK] [UNK] [UNK] [UNK] in new [UNK] br br the [UNK] of hope comes when some [UNK] are actually [UNK] that people making their [UNK] [UNK] were getting [UNK] like [UNK] [UNK] hour to do so you also have a feeling that the [UNK] may have a chance to [UNK] working in the [UNK] [UNK] but will probably do so when they get [UNK] up with the [UNK] [UNK] [UNK] with the [UNK] [UNK] [UNK] they just get too [UNK] to work up to 20 hours a day of hard [UNK] br i have [UNK] where those [UNK] came from not [UNK] how completely [UNK] and [UNK] it would be to make them i just truly [UNK] this film as it [UNK] [UNK] the [UNK] american [UNK] has over something we [UNK] [UNK] [UNK] in our society on [UNK] on the other side of the world [UNK] mention goes to [UNK] it is simply amazing and clearly just the [UNK] of the [UNK]                                                                                                                                                                                                                                                                                                                                                                                                                                                                                                                                                                                                                                                                                                                        \n",
            "\n"
          ]
        }
      ],
      "source": [
        "for n in range(3):\n",
        "  print(\"Original: \", example[n].numpy())\n",
        "  print(\"Round-trip: \", \" \".join(vocab[encoded_example[n]]))\n",
        "  print()"
      ]
    },
    {
      "cell_type": "markdown",
      "metadata": {
        "id": "bjUqGVBxGw-t"
      },
      "source": [
        "## Create the model"
      ]
    },
    {
      "cell_type": "markdown",
      "metadata": {
        "id": "W7zsmInBOCPO"
      },
      "source": [
        "![A drawing of the information flow in the model](https://github.com/tensorflow/text/blob/master/docs/tutorials/images/bidirectional.png?raw=1)"
      ]
    },
    {
      "cell_type": "markdown",
      "metadata": {
        "id": "bgs6nnSTGw-t"
      },
      "source": [
        "Above is a diagram of the model.\n",
        "\n",
        "1. This model can be build as a `tf.keras.Sequential`.\n",
        "\n",
        "2. The first layer is the `encoder`, which converts the text to a sequence of token indices.\n",
        "\n",
        "3. After the encoder is an embedding layer. An embedding layer stores one vector per word. When called, it converts the sequences of word indices to sequences of vectors. These vectors are trainable. After training (on enough data), words with similar meanings often have similar vectors.\n",
        "\n",
        "  This index-lookup is much more efficient than the equivalent operation of passing a one-hot encoded vector through a `tf.keras.layers.Dense` layer.\n",
        "\n",
        "4. A recurrent neural network (RNN) processes sequence input by iterating through the elements. RNNs pass the outputs from one timestep to their input on the next timestep.\n",
        "\n",
        "  The `tf.keras.layers.Bidirectional` wrapper can also be used with an RNN layer. This propagates the input forward and backwards through the RNN layer and then concatenates the final output.\n",
        "\n",
        "  * The main advantage of a bidirectional RNN is that the signal from the beginning of the input doesn't need to be processed all the way through every timestep to affect the output.  \n",
        "\n",
        "  * The main disadvantage of a bidirectional RNN is that you can't efficiently stream predictions as words are being added to the end.\n",
        "\n",
        "5. After the RNN has converted the sequence to a single vector the two `layers.Dense` do some final processing, and convert from this vector representation to a single logit as the classification output.\n"
      ]
    },
    {
      "cell_type": "markdown",
      "metadata": {
        "id": "V4fodCI7soQi"
      },
      "source": [
        "The code to implement this is below:"
      ]
    },
    {
      "cell_type": "code",
      "execution_count": 13,
      "metadata": {
        "id": "LwfoBkmRYcP3"
      },
      "outputs": [],
      "source": [
        "model = tf.keras.Sequential([\n",
        "    encoder,\n",
        "    tf.keras.layers.Embedding(\n",
        "        input_dim=len(encoder.get_vocabulary()),\n",
        "        output_dim=64,\n",
        "        # Use masking to handle the variable sequence lengths\n",
        "        mask_zero=True),\n",
        "    tf.keras.layers.Bidirectional(tf.keras.layers.LSTM(64)),\n",
        "    tf.keras.layers.Dense(64, activation='relu'),\n",
        "    tf.keras.layers.Dense(1)\n",
        "])"
      ]
    },
    {
      "cell_type": "markdown",
      "metadata": {
        "id": "QIGmIGkkouUb"
      },
      "source": [
        "Please note that Keras sequential model is used here since all the layers in the model only have single input and produce single output. In case you want to use stateful RNN layer, you might want to build your model with Keras functional API or model subclassing so that you can retrieve and reuse the RNN layer states. Please check [Keras RNN guide](https://www.tensorflow.org/guide/keras/rnn#rnn_state_reuse) for more details."
      ]
    },
    {
      "cell_type": "markdown",
      "metadata": {
        "id": "kF-PsCk1LwjY"
      },
      "source": [
        "The embedding layer [uses masking](https://www.tensorflow.org/guide/keras/masking_and_padding) to handle the varying sequence-lengths. All the layers after the `Embedding` support masking:"
      ]
    },
    {
      "cell_type": "code",
      "execution_count": 14,
      "metadata": {
        "colab": {
          "base_uri": "https://localhost:8080/"
        },
        "id": "87a8-CwfKebw",
        "outputId": "524045d7-d2c9-4bdd-e549-8880cf5986c1"
      },
      "outputs": [
        {
          "name": "stdout",
          "output_type": "stream",
          "text": [
            "[False, True, True, True, True]\n"
          ]
        }
      ],
      "source": [
        "print([layer.supports_masking for layer in model.layers])"
      ]
    },
    {
      "cell_type": "markdown",
      "metadata": {
        "id": "ZlS0iaUIWLpI"
      },
      "source": [
        "To confirm that this works as expected, evaluate a sentence twice. First, alone so there's no padding to mask:"
      ]
    },
    {
      "cell_type": "code",
      "execution_count": 15,
      "metadata": {
        "colab": {
          "base_uri": "https://localhost:8080/"
        },
        "id": "O41gw3KfWHus",
        "outputId": "b09d128d-eb62-41e5-d5d5-80bc01071e70"
      },
      "outputs": [
        {
          "name": "stdout",
          "output_type": "stream",
          "text": [
            "1/1 [==============================] - 7s 7s/step\n",
            "[-0.00404206]\n"
          ]
        }
      ],
      "source": [
        "# predict on a sample text without padding.\n",
        "\n",
        "sample_text = ('The movie was cool. The animation and the graphics '\n",
        "               'were out of this world. I would recommend this movie.')\n",
        "predictions = model.predict(np.array([sample_text]))\n",
        "print(predictions[0])"
      ]
    },
    {
      "cell_type": "markdown",
      "metadata": {
        "id": "K0VQmGnEWcuz"
      },
      "source": [
        "Now, evaluate it again in a batch with a longer sentence. The result should be identical:"
      ]
    },
    {
      "cell_type": "code",
      "execution_count": 16,
      "metadata": {
        "colab": {
          "base_uri": "https://localhost:8080/"
        },
        "id": "UIgpuTeFNDzq",
        "outputId": "4cd8badf-3237-49bc-89c6-5955d69c06ef"
      },
      "outputs": [
        {
          "name": "stdout",
          "output_type": "stream",
          "text": [
            "1/1 [==============================] - 0s 70ms/step\n",
            "[-0.00404206]\n"
          ]
        }
      ],
      "source": [
        "# predict on a sample text with padding\n",
        "\n",
        "padding = \"the \" * 2000\n",
        "predictions = model.predict(np.array([sample_text, padding]))\n",
        "print(predictions[0])"
      ]
    },
    {
      "cell_type": "markdown",
      "metadata": {
        "id": "sRI776ZcH3Tf"
      },
      "source": [
        "Compile the Keras model to configure the training process:"
      ]
    },
    {
      "cell_type": "code",
      "execution_count": 17,
      "metadata": {
        "id": "kj2xei41YZjC"
      },
      "outputs": [],
      "source": [
        "model.compile(loss=tf.keras.losses.BinaryCrossentropy(from_logits=True),\n",
        "              optimizer=tf.keras.optimizers.Adam(1e-4),\n",
        "              metrics=['accuracy'])"
      ]
    },
    {
      "cell_type": "markdown",
      "metadata": {
        "id": "zIwH3nto596k"
      },
      "source": [
        "## Train the model"
      ]
    },
    {
      "cell_type": "code",
      "execution_count": 18,
      "metadata": {
        "colab": {
          "base_uri": "https://localhost:8080/"
        },
        "id": "hw86wWS4YgR2",
        "outputId": "7f098fdd-a693-4234-9823-905b67cac0ad"
      },
      "outputs": [
        {
          "name": "stdout",
          "output_type": "stream",
          "text": [
            "Epoch 1/10\n",
            "391/391 [==============================] - 55s 114ms/step - loss: 0.6422 - accuracy: 0.5628 - val_loss: 0.4950 - val_accuracy: 0.7484\n",
            "Epoch 2/10\n",
            "391/391 [==============================] - 27s 69ms/step - loss: 0.4639 - accuracy: 0.7604 - val_loss: 0.4139 - val_accuracy: 0.8109\n",
            "Epoch 3/10\n",
            "391/391 [==============================] - 25s 63ms/step - loss: 0.3831 - accuracy: 0.8227 - val_loss: 0.3679 - val_accuracy: 0.8443\n",
            "Epoch 4/10\n",
            "391/391 [==============================] - 25s 63ms/step - loss: 0.3464 - accuracy: 0.8485 - val_loss: 0.3509 - val_accuracy: 0.8281\n",
            "Epoch 5/10\n",
            "391/391 [==============================] - 26s 65ms/step - loss: 0.3247 - accuracy: 0.8579 - val_loss: 0.3325 - val_accuracy: 0.8443\n",
            "Epoch 6/10\n",
            "391/391 [==============================] - 25s 65ms/step - loss: 0.3128 - accuracy: 0.8651 - val_loss: 0.3308 - val_accuracy: 0.8589\n",
            "Epoch 7/10\n",
            "391/391 [==============================] - 26s 65ms/step - loss: 0.3058 - accuracy: 0.8682 - val_loss: 0.3283 - val_accuracy: 0.8448\n",
            "Epoch 8/10\n",
            "391/391 [==============================] - 25s 64ms/step - loss: 0.3038 - accuracy: 0.8699 - val_loss: 0.3208 - val_accuracy: 0.8526\n",
            "Epoch 9/10\n",
            "391/391 [==============================] - 25s 63ms/step - loss: 0.3004 - accuracy: 0.8716 - val_loss: 0.3442 - val_accuracy: 0.8635\n",
            "Epoch 10/10\n",
            "391/391 [==============================] - 25s 63ms/step - loss: 0.2985 - accuracy: 0.8710 - val_loss: 0.3212 - val_accuracy: 0.8573\n"
          ]
        }
      ],
      "source": [
        "history = model.fit(train_dataset, epochs=10,\n",
        "                    validation_data=test_dataset,\n",
        "                    validation_steps=30)"
      ]
    },
    {
      "cell_type": "code",
      "execution_count": 19,
      "metadata": {
        "colab": {
          "base_uri": "https://localhost:8080/"
        },
        "id": "BaNbXi43YgUT",
        "outputId": "b4e69669-7357-4eb5-b4b3-8474f7914bfd"
      },
      "outputs": [
        {
          "name": "stdout",
          "output_type": "stream",
          "text": [
            "391/391 [==============================] - 12s 30ms/step - loss: 0.3144 - accuracy: 0.8585\n",
            "Test Loss: 0.3143872916698456\n",
            "Test Accuracy: 0.8584799766540527\n"
          ]
        }
      ],
      "source": [
        "test_loss, test_acc = model.evaluate(test_dataset)\n",
        "\n",
        "print('Test Loss:', test_loss)\n",
        "print('Test Accuracy:', test_acc)"
      ]
    },
    {
      "cell_type": "code",
      "execution_count": 20,
      "metadata": {
        "colab": {
          "base_uri": "https://localhost:8080/",
          "height": 675
        },
        "id": "OZmwt_mzaQJk",
        "outputId": "86265c15-e0d3-40bd-a997-2cd81fd13245"
      },
      "outputs": [
        {
          "data": {
            "text/plain": [
              "(0.0, 0.6593879729509353)"
            ]
          },
          "execution_count": 20,
          "metadata": {},
          "output_type": "execute_result"
        },
        {
          "data": {
            "image/png": "[encoded data removed]",
            "text/plain": [
              "<Figure size 1600x800 with 2 Axes>"
            ]
          },
          "metadata": {},
          "output_type": "display_data"
        }
      ],
      "source": [
        "plt.figure(figsize=(16, 8))\n",
        "plt.subplot(1, 2, 1)\n",
        "plot_graphs(history, 'accuracy')\n",
        "plt.ylim(None, 1)\n",
        "plt.subplot(1, 2, 2)\n",
        "plot_graphs(history, 'loss')\n",
        "plt.ylim(0, None)"
      ]
    },
    {
      "cell_type": "markdown",
      "metadata": {
        "id": "DwSE_386uhxD"
      },
      "source": [
        "Run a prediction on a new sentence:\n",
        "\n",
        "If the prediction is >= 0.0, it is positive else it is negative."
      ]
    },
    {
      "cell_type": "code",
      "execution_count": 21,
      "metadata": {
        "colab": {
          "base_uri": "https://localhost:8080/"
        },
        "id": "ZXgfQSgRW6zU",
        "outputId": "b4e2ac62-131e-4b82-86b7-22fd676f79ce"
      },
      "outputs": [
        {
          "name": "stdout",
          "output_type": "stream",
          "text": [
            "1/1 [==============================] - 2s 2s/step\n"
          ]
        }
      ],
      "source": [
        "sample_text = ('The movie was cool. The animation and the graphics '\n",
        "               'were out of this world. I would recommend this movie.')\n",
        "predictions = model.predict(np.array([sample_text]))"
      ]
    },
    {
      "cell_type": "markdown",
      "metadata": {
        "id": "7g1evcaRpTKm"
      },
      "source": [
        "## Stack two or more LSTM layers\n",
        "\n",
        "Keras recurrent layers have two available modes that are controlled by the `return_sequences` constructor argument:\n",
        "\n",
        "* If `False` it returns only the last output for each input sequence (a 2D tensor of shape (batch_size, output_features)). This is the default, used in the previous model.\n",
        "\n",
        "* If `True` the full sequences of successive outputs for each timestep is returned (a 3D tensor of shape `(batch_size, timesteps, output_features)`).\n",
        "\n",
        "Here is what the flow of information looks like with `return_sequences=True`:\n",
        "\n",
        "![layered_bidirectional](https://github.com/tensorflow/text/blob/master/docs/tutorials/images/layered_bidirectional.png?raw=1)"
      ]
    },
    {
      "cell_type": "markdown",
      "metadata": {
        "id": "wbSClCrG1z8l"
      },
      "source": [
        "The interesting thing about using an `RNN` with `return_sequences=True` is that the output still has 3-axes, like the input, so it can be passed to another RNN layer, like this:"
      ]
    },
    {
      "cell_type": "code",
      "execution_count": 22,
      "metadata": {
        "id": "jo1jjO3vn0jo"
      },
      "outputs": [],
      "source": [
        "model = tf.keras.Sequential([\n",
        "    encoder,\n",
        "    tf.keras.layers.Embedding(len(encoder.get_vocabulary()), 64, mask_zero=True),\n",
        "    tf.keras.layers.Bidirectional(tf.keras.layers.LSTM(64,  return_sequences=True)),\n",
        "    tf.keras.layers.Bidirectional(tf.keras.layers.LSTM(32)),\n",
        "    tf.keras.layers.Dense(64, activation='relu'),\n",
        "    tf.keras.layers.Dropout(0.5),\n",
        "    tf.keras.layers.Dense(1)\n",
        "])"
      ]
    },
    {
      "cell_type": "code",
      "execution_count": 23,
      "metadata": {
        "id": "hEPV5jVGp-is"
      },
      "outputs": [],
      "source": [
        "model.compile(loss=tf.keras.losses.BinaryCrossentropy(from_logits=True),\n",
        "              optimizer=tf.keras.optimizers.Adam(1e-4),\n",
        "              metrics=['accuracy'])"
      ]
    },
    {
      "cell_type": "code",
      "execution_count": 24,
      "metadata": {
        "colab": {
          "base_uri": "https://localhost:8080/"
        },
        "id": "LeSE-YjdqAeN",
        "outputId": "c9bdfc93-e9e6-4420-b4af-96b3e8afd32c"
      },
      "outputs": [
        {
          "name": "stdout",
          "output_type": "stream",
          "text": [
            "Epoch 1/10\n",
            "391/391 [==============================] - 80s 161ms/step - loss: 0.6193 - accuracy: 0.5920 - val_loss: 0.4714 - val_accuracy: 0.7760\n",
            "Epoch 2/10\n",
            "391/391 [==============================] - 47s 121ms/step - loss: 0.4019 - accuracy: 0.8252 - val_loss: 0.3686 - val_accuracy: 0.8297\n",
            "Epoch 3/10\n",
            "391/391 [==============================] - 45s 115ms/step - loss: 0.3452 - accuracy: 0.8536 - val_loss: 0.3287 - val_accuracy: 0.8516\n",
            "Epoch 4/10\n",
            "391/391 [==============================] - 45s 116ms/step - loss: 0.3263 - accuracy: 0.8613 - val_loss: 0.3238 - val_accuracy: 0.8562\n",
            "Epoch 5/10\n",
            "391/391 [==============================] - 46s 118ms/step - loss: 0.3122 - accuracy: 0.8688 - val_loss: 0.3215 - val_accuracy: 0.8500\n",
            "Epoch 6/10\n",
            "391/391 [==============================] - 46s 117ms/step - loss: 0.3099 - accuracy: 0.8690 - val_loss: 0.3310 - val_accuracy: 0.8635\n",
            "Epoch 7/10\n",
            "391/391 [==============================] - 46s 118ms/step - loss: 0.3080 - accuracy: 0.8711 - val_loss: 0.3161 - val_accuracy: 0.8583\n",
            "Epoch 8/10\n",
            "391/391 [==============================] - 45s 115ms/step - loss: 0.3013 - accuracy: 0.8731 - val_loss: 0.3190 - val_accuracy: 0.8495\n",
            "Epoch 9/10\n",
            "391/391 [==============================] - 45s 115ms/step - loss: 0.2981 - accuracy: 0.8740 - val_loss: 0.3155 - val_accuracy: 0.8531\n",
            "Epoch 10/10\n",
            "391/391 [==============================] - 45s 115ms/step - loss: 0.2972 - accuracy: 0.8736 - val_loss: 0.3173 - val_accuracy: 0.8484\n"
          ]
        }
      ],
      "source": [
        "history = model.fit(train_dataset, epochs=10,\n",
        "                    validation_data=test_dataset,\n",
        "                    validation_steps=30)"
      ]
    },
    {
      "cell_type": "code",
      "execution_count": 25,
      "metadata": {
        "colab": {
          "base_uri": "https://localhost:8080/"
        },
        "id": "_LdwilM1qPM3",
        "outputId": "140c23b4-d0d8-4dee-f38c-01ef6ea7f434"
      },
      "outputs": [
        {
          "name": "stdout",
          "output_type": "stream",
          "text": [
            "391/391 [==============================] - 19s 48ms/step - loss: 0.3150 - accuracy: 0.8516\n",
            "Test Loss: 0.31500598788261414\n",
            "Test Accuracy: 0.8515999913215637\n"
          ]
        }
      ],
      "source": [
        "test_loss, test_acc = model.evaluate(test_dataset)\n",
        "\n",
        "print('Test Loss:', test_loss)\n",
        "print('Test Accuracy:', test_acc)"
      ]
    },
    {
      "cell_type": "code",
      "execution_count": 26,
      "metadata": {
        "colab": {
          "base_uri": "https://localhost:8080/"
        },
        "id": "ykUKnAoqbycW",
        "outputId": "3cad6c76-a5e0-4a2a-c63f-1eda84511ba2"
      },
      "outputs": [
        {
          "name": "stdout",
          "output_type": "stream",
          "text": [
            "1/1 [==============================] - 5s 5s/step\n",
            "[[-1.5613863]]\n"
          ]
        }
      ],
      "source": [
        "# predict on a sample text without padding.\n",
        "\n",
        "sample_text = ('The movie was not good. The animation and the graphics '\n",
        "               'were terrible. I would not recommend this movie.')\n",
        "predictions = model.predict(np.array([sample_text]))\n",
        "print(predictions)"
      ]
    },
    {
      "cell_type": "code",
      "execution_count": 27,
      "metadata": {
        "colab": {
          "base_uri": "https://localhost:8080/",
          "height": 506
        },
        "id": "_YYub0EDtwCu",
        "outputId": "4641f7dc-3215-4d88-f988-cd5cfe19cd13"
      },
      "outputs": [
        {
          "data": {
            "image/png": "[encoded data removed]",
            "text/plain": [
              "<Figure size 1600x600 with 2 Axes>"
            ]
          },
          "metadata": {},
          "output_type": "display_data"
        }
      ],
      "source": [
        "plt.figure(figsize=(16, 6))\n",
        "plt.subplot(1, 2, 1)\n",
        "plot_graphs(history, 'accuracy')\n",
        "plt.subplot(1, 2, 2)\n",
        "plot_graphs(history, 'loss')"
      ]
    },
    {
      "cell_type": "markdown",
      "metadata": {
        "id": "9xvpE3BaGw_V"
      },
      "source": [
        "Check out other existing recurrent layers such as [GRU layers](https://www.tensorflow.org/api_docs/python/tf/keras/layers/GRU).\n",
        "\n",
        "If you're interested in building custom RNNs, see the [Keras RNN Guide](https://www.tensorflow.org/guide/keras/rnn).\n"
      ]
    }
  ],
  "metadata": {
    "accelerator": "GPU",
    "colab": {
      "include_colab_link": true,
      "provenance": []
    },
    "kernelspec": {
      "display_name": "Python 3",
      "name": "python3"
    }
  },
  "nbformat": 4,
  "nbformat_minor": 0
}
