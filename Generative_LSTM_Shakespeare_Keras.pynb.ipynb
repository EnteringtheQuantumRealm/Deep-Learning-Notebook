{
  "cells": [
    {
      "cell_type": "markdown",
      "metadata": {
        "id": "2u55TY-W01TG"
      },
      "source": [
        "## Writing like Shakespeare (Shakespeare poem generator with Keras)\n",
        "\n",
        "A similar task to character-level text generation (but more complicated) is generating Shakespearean poems. Instead of learning from a dataset of dinosaur names, you can use a collection of Shakespearean poems. Using LSTM cells, you can learn longer-term dependencies that span many characters in the text--e.g., where a character appearing somewhere a sequence can influence what should be a different character, much later in the sequence. These long-term dependencies were less important with dinosaur names, since the names were quite short.\n",
        "\n",
        "<img src=\"data:image/jpeg;base64,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\" >\n",
        "\n",
        "\n"
      ]
    },
    {
      "cell_type": "code",
      "execution_count": 25,
      "metadata": {
        "colab": {
          "base_uri": "https://localhost:8080/"
        },
        "id": "I7e2hStzKzxi",
        "outputId": "dc3dc13c-65d2-4767-f734-51eb86af3de1"
      },
      "outputs": [
        {
          "name": "stdout",
          "output_type": "stream",
          "text": [
            "Loading text data...\n",
            "Creating training set...\n",
            "number of training examples: 31412\n",
            "Vectorizing training set...\n"
          ]
        },
        {
          "name": "stderr",
          "output_type": "stream",
          "text": [
            "<ipython-input-25-e0d00c13fa55>:57: DeprecationWarning: `np.bool` is a deprecated alias for the builtin `bool`. To silence this warning, use `bool` by itself. Doing this will not modify any behavior and is safe. If you specifically wanted the numpy scalar type, use `np.bool_` here.\n",
            "Deprecated in NumPy 1.20; for more details and guidance: https://numpy.org/devdocs/release/1.20.0-notes.html#deprecations\n",
            "  x = np.zeros((m, Tx, n_x), dtype=np.bool)\n",
            "<ipython-input-25-e0d00c13fa55>:58: DeprecationWarning: `np.bool` is a deprecated alias for the builtin `bool`. To silence this warning, use `bool` by itself. Doing this will not modify any behavior and is safe. If you specifically wanted the numpy scalar type, use `np.bool_` here.\n",
            "Deprecated in NumPy 1.20; for more details and guidance: https://numpy.org/devdocs/release/1.20.0-notes.html#deprecations\n",
            "  y = np.zeros((m, n_x), dtype=np.bool)\n"
          ]
        },
        {
          "name": "stdout",
          "output_type": "stream",
          "text": [
            "Loading model...\n"
          ]
        }
      ],
      "source": [
        "# Load Packages\n",
        "from __future__ import print_function\n",
        "from tensorflow.keras.callbacks import LambdaCallback\n",
        "from tensorflow.keras.models import Model, load_model, Sequential\n",
        "from tensorflow.keras.layers import Dense, Activation, Dropout, Input, Masking\n",
        "from tensorflow.keras.layers import LSTM\n",
        "from tensorflow.keras.utils import get_file\n",
        "from tensorflow.keras.preprocessing.sequence import pad_sequences\n",
        "import numpy as np\n",
        "import random\n",
        "import sys\n",
        "import io\n",
        "\n",
        "def build_data(text, Tx = 40, stride = 3):\n",
        "    \"\"\"\n",
        "    Create a training set by scanning a window of size Tx over the text corpus, with stride 3.\n",
        "\n",
        "    Arguments:\n",
        "    text -- string, corpus of Shakespearian poem\n",
        "    Tx -- sequence length, number of time-steps (or characters) in one training example\n",
        "    stride -- how much the window shifts itself while scanning\n",
        "\n",
        "    Returns:\n",
        "    X -- list of training examples\n",
        "    Y -- list of training labels\n",
        "    \"\"\"\n",
        "\n",
        "    X = []\n",
        "    Y = []\n",
        "\n",
        "    for i in range(0, len(text) - Tx, stride):\n",
        "        X.append(text[i: i + Tx])\n",
        "        Y.append(text[i + Tx])\n",
        "   \n",
        "    print('number of training examples:', len(X))\n",
        "\n",
        "    return X, Y\n",
        "\n",
        "\n",
        "def vectorization(X, Y, n_x, char_indices, Tx = 40):\n",
        "    \"\"\"\n",
        "    Convert X and Y (lists) into arrays to be given to a recurrent neural network.\n",
        "\n",
        "    Arguments:\n",
        "    X --\n",
        "    Y --\n",
        "    Tx -- integer, sequence length\n",
        "\n",
        "    Returns:\n",
        "    x -- array of shape (m, Tx, len(chars))\n",
        "    y -- array of shape (m, len(chars))\n",
        "    \"\"\"\n",
        "\n",
        "    m = len(X)\n",
        "    x = np.zeros((m, Tx, n_x), dtype=np.bool)\n",
        "    y = np.zeros((m, n_x), dtype=np.bool)\n",
        "    for i, sentence in enumerate(X):\n",
        "        for t, char in enumerate(sentence):\n",
        "            x[i, t, char_indices[char]] = 1\n",
        "        y[i, char_indices[Y[i]]] = 1\n",
        "\n",
        "    return x, y\n",
        "\n",
        "\n",
        "def sample(preds, temperature=1.0):\n",
        "    # helper function to sample an index from a probability array\n",
        "    preds = np.asarray(preds).astype('float64')\n",
        "    preds = np.log(preds) / temperature\n",
        "    exp_preds = np.exp(preds)\n",
        "    preds = exp_preds / np.sum(exp_preds)\n",
        "    probas = np.random.multinomial(1, preds, 1)\n",
        "    out = np.random.choice(range(len(chars)), p = probas.ravel())\n",
        "    return out\n",
        "    #return np.argmax(probas)\n",
        "\n",
        "def on_epoch_end(epoch, logs):\n",
        "    # Function invoked at end of each epoch. Prints generated text.\n",
        "    None\n",
        "    #start_index = random.randint(0, len(text) - Tx - 1)\n",
        "\n",
        "    #generated = ''\n",
        "    #sentence = text[start_index: start_index + Tx]\n",
        "    #sentence = '0'*Tx\n",
        "    #usr_input = input(\"Write the beginning of your poem, the Shakespearian machine will complete it.\")\n",
        "    # zero pad the sentence to Tx characters.\n",
        "    #sentence = ('{0:0>' + str(Tx) + '}').format(usr_input).lower()\n",
        "    #generated += sentence\n",
        "#\n",
        "    #sys.stdout.write(usr_input)\n",
        "\n",
        "    #for i in range(400):\n",
        "\"\"\"\n",
        "        #x_pred = np.zeros((1, Tx, len(chars)))\n",
        "\n",
        "        for t, char in enumerate(sentence):\n",
        "            if char != '0':\n",
        "                x_pred[0, t, char_indices[char]] = 1.\n",
        "\n",
        "        preds = model.predict(x_pred, verbose=0)[0]\n",
        "        next_index = sample(preds, temperature = 1.0)\n",
        "        next_char = indices_char[next_index]\n",
        "\n",
        "        generated += next_char\n",
        "        sentence = sentence[1:] + next_char\n",
        "\n",
        "        sys.stdout.write(next_char)\n",
        "        sys.stdout.flush()\n",
        "\n",
        "        if next_char == '\\n':\n",
        "            continue\n",
        "\n",
        "    # Stop at the end of a line (4 lines)\n",
        "    print()\n",
        " \"\"\"\n",
        "print(\"Loading text data...\")\n",
        "text = io.open('/content/shakespeare.txt', encoding='utf-8').read().lower()\n",
        "#print('corpus length:', len(text))\n",
        "\n",
        "Tx = 40\n",
        "chars = sorted(list(set(text)))\n",
        "char_indices = dict((c, i) for i, c in enumerate(chars))\n",
        "indices_char = dict((i, c) for i, c in enumerate(chars))\n",
        "#print('number of unique characters in the corpus:', len(chars))\n",
        "\n",
        "print(\"Creating training set...\")\n",
        "X, Y = build_data(text, Tx, stride = 3)\n",
        "print(\"Vectorizing training set...\")\n",
        "x, y = vectorization(X, Y, n_x = len(chars), char_indices = char_indices)\n",
        "print(\"Loading model...\")\n",
        "model = load_model('/content/model_shakespeare_kiank_350_epoch.h5')\n",
        "\n",
        "def generate_output():\n",
        "    generated = ''\n",
        "    #sentence = text[start_index: start_index + Tx]\n",
        "    #sentence = '0'*Tx\n",
        "    usr_input = input(\"Write the beginning of your poem, the Shakespeare machine will complete it. Your input is: \")\n",
        "    # zero pad the sentence to Tx characters.\n",
        "    sentence = ('{0:0>' + str(Tx) + '}').format(usr_input).lower()\n",
        "    generated += usr_input\n",
        "\n",
        "    sys.stdout.write(\"\\n\\nHere is your poem: \\n\\n\")\n",
        "    sys.stdout.write(usr_input)\n",
        "    for i in range(400):\n",
        "\n",
        "        x_pred = np.zeros((1, Tx, len(chars)))\n",
        "\n",
        "        for t, char in enumerate(sentence):\n",
        "            if char != '0':\n",
        "                x_pred[0, t, char_indices[char]] = 1.\n",
        "\n",
        "        preds = model.predict(x_pred, verbose=0)[0]\n",
        "        next_index = sample(preds, temperature = 1.0)\n",
        "        next_char = indices_char[next_index]\n",
        "\n",
        "        generated += next_char\n",
        "        sentence = sentence[1:] + next_char\n",
        "\n",
        "        sys.stdout.write(next_char)\n",
        "        sys.stdout.flush()\n",
        "\n",
        "        if next_char == '\\n':\n",
        "            continue"
      ]
    },
    {
      "cell_type": "markdown",
      "metadata": {
        "id": "jRaDcXrU01TJ"
      },
      "source": [
        "To save you some time, a model has already been trained for ~1000 epochs on a collection of Shakespearean poems called \"<i>[The Sonnets](shakespeare.txt)</i>.\""
      ]
    },
    {
      "cell_type": "markdown",
      "metadata": {
        "id": "XGG0VdGv01TJ"
      },
      "source": [
        "Let's train the model for one more epoch. When it finishes training for an epoch (this will also take a few minutes), you can run `generate_output`, which will prompt you for an input (`<`40 characters). The poem will start with your sentence, and your RNN Shakespeare will complete the rest of the poem for you! For example, try, \"Forsooth this maketh no sense\" (without the quotation marks!). Depending on whether you include the space at the end, your results might also differ, so try it both ways, and try other inputs as well."
      ]
    },
    {
      "cell_type": "code",
      "execution_count": 28,
      "metadata": {
        "colab": {
          "base_uri": "https://localhost:8080/"
        },
        "id": "Y4DBjTlz01TK",
        "outputId": "23f99edf-0071-4c4f-9083-4e479bb81e61",
        "scrolled": true
      },
      "outputs": [
        {
          "name": "stdout",
          "output_type": "stream",
          "text": [
            "246/246 [==============================] - 124s 489ms/step - loss: 2.5500\n"
          ]
        },
        {
          "data": {
            "text/plain": [
              "<keras.src.callbacks.History at 0x79d602ba8be0>"
            ]
          },
          "execution_count": 28,
          "metadata": {},
          "output_type": "execute_result"
        }
      ],
      "source": [
        "print_callback = LambdaCallback(on_epoch_end=on_epoch_end)\n",
        "\n",
        "model.fit(x, y, batch_size=128, epochs=1, callbacks=[print_callback])"
      ]
    },
    {
      "cell_type": "code",
      "execution_count": 33,
      "metadata": {
        "colab": {
          "base_uri": "https://localhost:8080/"
        },
        "id": "wDoriy4Z01TM",
        "outputId": "4acf8c1d-b506-4f32-d3e1-b42a85069566"
      },
      "outputs": [
        {
          "name": "stdout",
          "output_type": "stream",
          "text": [
            "Write the beginning of your poem, the Shakespeare machine will complete it. Your input is: In \n",
            "\n",
            "\n",
            "Here is your poem: \n",
            "\n",
            "In eyes.\n",
            " be 'tives betort, sealinc praysed to thee,\n",
            "and you cheast ver the age pren salver ard,\n",
            "leds my concander, thit plipficcet os trise,\n",
            "and now leyd wend's flome mounder barpes,\n",
            "that frield, ner mo marred that relend earst?\n",
            "dederion restfich wos crasy to say,\n",
            "the or'en lebded dighs of (raires now.\n",
            " deblok with thee wate all his mush then bi limed,\n",
            "me for whise co opneal thue pured wiere.\n",
            "'wort "
          ]
        }
      ],
      "source": [
        "# Run this cell to try with different inputs without having to re-train the model\n",
        "generate_output()"
      ]
    },
    {
      "cell_type": "markdown",
      "metadata": {
        "id": "b1UA61-t01TO"
      },
      "source": [
        "The RNN Shakespeare model is very similar to the one you built for dinosaur names. The only major differences are:\n",
        "- LSTMs instead of the basic RNN to capture longer-range dependencies\n",
        "- The model is a deeper, stacked LSTM model (2 layer)\n",
        "- Using Keras instead of Python to simplify the code\n"
      ]
    }
  ],
  "metadata": {
    "colab": {
      "provenance": []
    },
    "coursera": {
      "schema_names": [
        "DLSC5W1-A2"
      ]
    },
    "kernelspec": {
      "display_name": "Python 3",
      "language": "python",
      "name": "python3"
    },
    "language_info": {
      "codemirror_mode": {
        "name": "ipython",
        "version": 3
      },
      "file_extension": ".py",
      "mimetype": "text/x-python",
      "name": "python",
      "nbconvert_exporter": "python",
      "pygments_lexer": "ipython3",
      "version": "3.7.6"
    }
  },
  "nbformat": 4,
  "nbformat_minor": 0
}
