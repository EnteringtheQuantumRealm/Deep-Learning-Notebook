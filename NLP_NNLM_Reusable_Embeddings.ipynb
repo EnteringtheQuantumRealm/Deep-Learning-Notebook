{
 "cells": [
  {
   "cell_type": "markdown",
   "metadata": {},
   "source": [
    "# Reusable Embeddings\n",
    "\n",
    "**Learning Objectives**\n",
    "1. Learn how to use a pre-trained TF Hub text modules to generate sentence vectors.\n",
    "1. Learn how to incorporate a pre-trained TF-Hub module into a Keras model.\n",
    "1. Learn how to deploy and use a text model on CAIP.\n",
    "\n",
    "\n",
    "\n",
    "## Introduction\n",
    "\n",
    "\n",
    "In this notebook, we will implement text models to recognize the probable source (Github, Tech-Crunch, or The New-York Times) of the titles we have in the title dataset.\n",
    "\n",
    "First, we will load and pre-process the texts and labels so that they are suitable to be fed to sequential Keras models with first layer being TF-hub pre-trained modules. Thanks to this first layer, we won't need to tokenize and integerize the text before passing it to our models. The pre-trained layer will take care of that for us, and consume directly raw text. However, we will still have to one-hot-encode each of the 3 classes into a 3 dimensional basis vector.\n",
    "\n",
    "Then we will build, train and compare simple DNN models starting with different pre-trained TF-Hub layers."
   ]
  },
  {
   "cell_type": "code",
   "execution_count": 1,
   "metadata": {
    "tags": []
   },
   "outputs": [],
   "source": [
    "import os\n",
    "\n",
    "from google.cloud import bigquery\n",
    "import pandas as pd"
   ]
  },
  {
   "cell_type": "code",
   "execution_count": 2,
   "metadata": {
    "tags": []
   },
   "outputs": [
    {
     "name": "stdout",
     "output_type": "stream",
     "text": [
      "The google.cloud.bigquery extension is already loaded. To reload it, use:\n",
      "  %reload_ext google.cloud.bigquery\n"
     ]
    }
   ],
   "source": [
    "%load_ext google.cloud.bigquery"
   ]
  },
  {
   "cell_type": "markdown",
   "metadata": {},
   "source": [
    "Replace the variable values in the cell below:"
   ]
  },
  {
   "cell_type": "code",
   "execution_count": 3,
   "metadata": {
    "tags": []
   },
   "outputs": [],
   "source": [
    "PROJECT = \"qwiklabs-gcp-02-74c800cc1cb2\"  # Replace with your PROJECT\n",
    "BUCKET = PROJECT \n",
    "REGION = \"us-central1\"  \n",
    "\n",
    "os.environ['PROJECT'] = PROJECT\n",
    "os.environ['BUCKET'] = BUCKET\n",
    "os.environ['REGION'] = REGION"
   ]
  },
  {
   "cell_type": "markdown",
   "metadata": {},
   "source": [
    "## Create a Dataset from BigQuery \n",
    "\n",
    "Hacker news headlines are available as a BigQuery public dataset. The [dataset](https://bigquery.cloud.google.com/table/bigquery-public-data:hacker_news.stories?tab=details) contains all headlines from the sites inception in October 2006 until October 2015. \n",
    "\n",
    "Here is a sample of the dataset:"
   ]
  },
  {
   "cell_type": "code",
   "execution_count": 5,
   "metadata": {
    "tags": []
   },
   "outputs": [
    {
     "data": {
      "application/vnd.jupyter.widget-view+json": {
       "model_id": "588afa5d964b409abd2510256029d072",
       "version_major": 2,
       "version_minor": 0
      },
      "text/plain": [
       "Query is running:   0%|          |"
      ]
     },
     "metadata": {},
     "output_type": "display_data"
    },
    {
     "data": {
      "application/vnd.jupyter.widget-view+json": {
       "model_id": "d0d2deb748954613bc0f34a909c673fb",
       "version_major": 2,
       "version_minor": 0
      },
      "text/plain": [
       "Downloading:   0%|          |"
      ]
     },
     "metadata": {},
     "output_type": "display_data"
    },
    {
     "data": {
      "text/html": [
       "<div>\n",
       "<style scoped>\n",
       "    .dataframe tbody tr th:only-of-type {\n",
       "        vertical-align: middle;\n",
       "    }\n",
       "\n",
       "    .dataframe tbody tr th {\n",
       "        vertical-align: top;\n",
       "    }\n",
       "\n",
       "    .dataframe thead th {\n",
       "        text-align: right;\n",
       "    }\n",
       "</style>\n",
       "<table border=\"1\" class=\"dataframe\">\n",
       "  <thead>\n",
       "    <tr style=\"text-align: right;\">\n",
       "      <th></th>\n",
       "      <th>url</th>\n",
       "      <th>title</th>\n",
       "      <th>score</th>\n",
       "    </tr>\n",
       "  </thead>\n",
       "  <tbody>\n",
       "    <tr>\n",
       "      <th>0</th>\n",
       "      <td>http://macdailynews.com/index.php/weblog/comme...</td>\n",
       "      <td>Apple now worth double Dell's market value</td>\n",
       "      <td>11</td>\n",
       "    </tr>\n",
       "    <tr>\n",
       "      <th>1</th>\n",
       "      <td>http://54.247.181.15/</td>\n",
       "      <td>Show HN: Conway's Game of Life JS implementation</td>\n",
       "      <td>11</td>\n",
       "    </tr>\n",
       "    <tr>\n",
       "      <th>2</th>\n",
       "      <td>http://tumult.com/hype/pro/</td>\n",
       "      <td>Show HN: Hype Pro uses Matter.js for Physics a...</td>\n",
       "      <td>12</td>\n",
       "    </tr>\n",
       "    <tr>\n",
       "      <th>3</th>\n",
       "      <td>http://grumpy-testing.com</td>\n",
       "      <td>The Grumpy Programmer's Guide To Building Test...</td>\n",
       "      <td>12</td>\n",
       "    </tr>\n",
       "    <tr>\n",
       "      <th>4</th>\n",
       "      <td>http://www.theregister.com/2007/07/28/meraki_f...</td>\n",
       "      <td>Startup brings free wifi to SF</td>\n",
       "      <td>12</td>\n",
       "    </tr>\n",
       "    <tr>\n",
       "      <th>5</th>\n",
       "      <td>http://myfaves.fm</td>\n",
       "      <td>Show HN: myfaves.fm – A flat-ui music player b...</td>\n",
       "      <td>12</td>\n",
       "    </tr>\n",
       "    <tr>\n",
       "      <th>6</th>\n",
       "      <td>http://getdropbox.com/</td>\n",
       "      <td>DropBox out of space?</td>\n",
       "      <td>12</td>\n",
       "    </tr>\n",
       "    <tr>\n",
       "      <th>7</th>\n",
       "      <td>http://www.theamericanscholar.org/solitude-and...</td>\n",
       "      <td>Solitude and Leadership</td>\n",
       "      <td>13</td>\n",
       "    </tr>\n",
       "    <tr>\n",
       "      <th>8</th>\n",
       "      <td>https://unschooler.me/skills/</td>\n",
       "      <td>Show HN: Unschooler predicts future career by ...</td>\n",
       "      <td>14</td>\n",
       "    </tr>\n",
       "    <tr>\n",
       "      <th>9</th>\n",
       "      <td>http://blog.cartodb.com/post/83723812630/moves...</td>\n",
       "      <td>Your Moves moves, visualized</td>\n",
       "      <td>14</td>\n",
       "    </tr>\n",
       "  </tbody>\n",
       "</table>\n",
       "</div>"
      ],
      "text/plain": [
       "                                                 url  \\\n",
       "0  http://macdailynews.com/index.php/weblog/comme...   \n",
       "1                              http://54.247.181.15/   \n",
       "2                        http://tumult.com/hype/pro/   \n",
       "3                          http://grumpy-testing.com   \n",
       "4  http://www.theregister.com/2007/07/28/meraki_f...   \n",
       "5                                  http://myfaves.fm   \n",
       "6                             http://getdropbox.com/   \n",
       "7  http://www.theamericanscholar.org/solitude-and...   \n",
       "8                      https://unschooler.me/skills/   \n",
       "9  http://blog.cartodb.com/post/83723812630/moves...   \n",
       "\n",
       "                                               title  score  \n",
       "0         Apple now worth double Dell's market value     11  \n",
       "1   Show HN: Conway's Game of Life JS implementation     11  \n",
       "2  Show HN: Hype Pro uses Matter.js for Physics a...     12  \n",
       "3  The Grumpy Programmer's Guide To Building Test...     12  \n",
       "4                     Startup brings free wifi to SF     12  \n",
       "5  Show HN: myfaves.fm – A flat-ui music player b...     12  \n",
       "6                              DropBox out of space?     12  \n",
       "7                            Solitude and Leadership     13  \n",
       "8  Show HN: Unschooler predicts future career by ...     14  \n",
       "9                       Your Moves moves, visualized     14  "
      ]
     },
     "execution_count": 5,
     "metadata": {},
     "output_type": "execute_result"
    }
   ],
   "source": [
    "%%bigquery --project $PROJECT\n",
    "\n",
    "SELECT\n",
    "    url, title, score\n",
    "FROM\n",
    "    `bigquery-public-data.hacker_news.full`\n",
    "WHERE\n",
    "    LENGTH(title) > 10\n",
    "    AND score > 10\n",
    "    AND LENGTH(url) > 0\n",
    "LIMIT 10"
   ]
  },
  {
   "cell_type": "markdown",
   "metadata": {},
   "source": [
    "Let's do some regular expression parsing in BigQuery to get the source of the newspaper article from the URL. For example, if the url is http://mobile.nytimes.com/...., I want to be left with <i>nytimes</i>"
   ]
  },
  {
   "cell_type": "code",
   "execution_count": 6,
   "metadata": {
    "tags": []
   },
   "outputs": [
    {
     "data": {
      "application/vnd.jupyter.widget-view+json": {
       "model_id": "b616742bcc2c468abbce84b15e85e1bc",
       "version_major": 2,
       "version_minor": 0
      },
      "text/plain": [
       "Query is running:   0%|          |"
      ]
     },
     "metadata": {},
     "output_type": "display_data"
    },
    {
     "data": {
      "application/vnd.jupyter.widget-view+json": {
       "model_id": "5ce46d71bb054a75a1447b8255c658f0",
       "version_major": 2,
       "version_minor": 0
      },
      "text/plain": [
       "Downloading:   0%|          |"
      ]
     },
     "metadata": {},
     "output_type": "display_data"
    },
    {
     "data": {
      "text/html": [
       "<div>\n",
       "<style scoped>\n",
       "    .dataframe tbody tr th:only-of-type {\n",
       "        vertical-align: middle;\n",
       "    }\n",
       "\n",
       "    .dataframe tbody tr th {\n",
       "        vertical-align: top;\n",
       "    }\n",
       "\n",
       "    .dataframe thead th {\n",
       "        text-align: right;\n",
       "    }\n",
       "</style>\n",
       "<table border=\"1\" class=\"dataframe\">\n",
       "  <thead>\n",
       "    <tr style=\"text-align: right;\">\n",
       "      <th></th>\n",
       "      <th>source</th>\n",
       "      <th>num_articles</th>\n",
       "    </tr>\n",
       "  </thead>\n",
       "  <tbody>\n",
       "    <tr>\n",
       "      <th>0</th>\n",
       "      <td>github</td>\n",
       "      <td>139395</td>\n",
       "    </tr>\n",
       "    <tr>\n",
       "      <th>1</th>\n",
       "      <td>medium</td>\n",
       "      <td>125985</td>\n",
       "    </tr>\n",
       "    <tr>\n",
       "      <th>2</th>\n",
       "      <td>youtube</td>\n",
       "      <td>101025</td>\n",
       "    </tr>\n",
       "    <tr>\n",
       "      <th>3</th>\n",
       "      <td>nytimes</td>\n",
       "      <td>73114</td>\n",
       "    </tr>\n",
       "    <tr>\n",
       "      <th>4</th>\n",
       "      <td>blogspot</td>\n",
       "      <td>59863</td>\n",
       "    </tr>\n",
       "    <tr>\n",
       "      <th>...</th>\n",
       "      <td>...</td>\n",
       "      <td>...</td>\n",
       "    </tr>\n",
       "    <tr>\n",
       "      <th>95</th>\n",
       "      <td>nextplatform</td>\n",
       "      <td>2647</td>\n",
       "    </tr>\n",
       "    <tr>\n",
       "      <th>96</th>\n",
       "      <td>anandtech</td>\n",
       "      <td>2629</td>\n",
       "    </tr>\n",
       "    <tr>\n",
       "      <th>97</th>\n",
       "      <td>extremetech</td>\n",
       "      <td>2598</td>\n",
       "    </tr>\n",
       "    <tr>\n",
       "      <th>98</th>\n",
       "      <td>politico</td>\n",
       "      <td>2594</td>\n",
       "    </tr>\n",
       "    <tr>\n",
       "      <th>99</th>\n",
       "      <td>9to5mac</td>\n",
       "      <td>2590</td>\n",
       "    </tr>\n",
       "  </tbody>\n",
       "</table>\n",
       "<p>100 rows × 2 columns</p>\n",
       "</div>"
      ],
      "text/plain": [
       "          source  num_articles\n",
       "0         github        139395\n",
       "1         medium        125985\n",
       "2        youtube        101025\n",
       "3        nytimes         73114\n",
       "4       blogspot         59863\n",
       "..           ...           ...\n",
       "95  nextplatform          2647\n",
       "96     anandtech          2629\n",
       "97   extremetech          2598\n",
       "98      politico          2594\n",
       "99       9to5mac          2590\n",
       "\n",
       "[100 rows x 2 columns]"
      ]
     },
     "execution_count": 6,
     "metadata": {},
     "output_type": "execute_result"
    }
   ],
   "source": [
    "%%bigquery --project $PROJECT\n",
    "\n",
    "SELECT\n",
    "    ARRAY_REVERSE(SPLIT(REGEXP_EXTRACT(url, '.*://(.[^/]+)/'), '.'))[safe_offset (1)] AS source,\n",
    "    COUNT(title) AS num_articles\n",
    "FROM\n",
    "    `bigquery-public-data.hacker_news.full`\n",
    "WHERE\n",
    "    REGEXP_CONTAINS(REGEXP_EXTRACT(url, '.*://(.[^/]+)/'), '.com$')\n",
    "    AND LENGTH(title) > 10\n",
    "GROUP BY\n",
    "    source\n",
    "ORDER BY num_articles DESC\n",
    "  LIMIT 100"
   ]
  },
  {
   "cell_type": "markdown",
   "metadata": {},
   "source": [
    "Now that we have good parsing of the URL to get the source, let's put together a dataset of source and titles. This will be our labeled dataset for machine learning."
   ]
  },
  {
   "cell_type": "code",
   "execution_count": 11,
   "metadata": {
    "tags": []
   },
   "outputs": [
    {
     "name": "stdout",
     "output_type": "stream",
     "text": [
      "\n",
      "SELECT \n",
      "    LOWER(REGEXP_REPLACE(title, '[^a-zA-Z0-9 $.-]', ' ')) AS title,\n",
      "    source\n",
      "FROM\n",
      "  (\n",
      "SELECT\n",
      "    title,\n",
      "    ARRAY_REVERSE(SPLIT(REGEXP_EXTRACT(url, '.*://(.[^/]+)/'), '.'))[safe_offset (1)] AS source\n",
      "    \n",
      "FROM\n",
      "    `bigquery-public-data.hacker_news.full`\n",
      "WHERE\n",
      "    REGEXP_CONTAINS(REGEXP_EXTRACT(url, '.*://(.[^/]+)/'), '.com$')\n",
      "    AND LENGTH(title) > 10\n",
      ")\n",
      "WHERE (source = 'github' OR source = 'nytimes' OR source = 'techcrunch')\n",
      "\n"
     ]
    }
   ],
   "source": [
    "regex = '.*://(.[^/]+)/'\n",
    "\n",
    "\n",
    "sub_query = \"\"\"\n",
    "SELECT\n",
    "    title,\n",
    "    ARRAY_REVERSE(SPLIT(REGEXP_EXTRACT(url, '{0}'), '.'))[safe_offset (1)] AS source\n",
    "    \n",
    "FROM\n",
    "    `bigquery-public-data.hacker_news.full`\n",
    "WHERE\n",
    "    REGEXP_CONTAINS(REGEXP_EXTRACT(url, '{0}'), '.com$')\n",
    "    AND LENGTH(title) > 10\n",
    "\"\"\".format(regex)\n",
    "\n",
    "\n",
    "query = \"\"\"\n",
    "SELECT \n",
    "    LOWER(REGEXP_REPLACE(title, '[^a-zA-Z0-9 $.-]', ' ')) AS title,\n",
    "    source\n",
    "FROM\n",
    "  ({sub_query})\n",
    "WHERE (source = 'github' OR source = 'nytimes' OR source = 'techcrunch')\n",
    "\"\"\".format(sub_query=sub_query)\n",
    "\n",
    "print(query)"
   ]
  },
  {
   "cell_type": "markdown",
   "metadata": {},
   "source": [
    "For ML training, we usually need to split our dataset into training and evaluation datasets (and perhaps an independent test dataset if we are going to do model or feature selection based on the evaluation dataset). AutoML however figures out on its own how to create these splits, so we won't need to do that here. \n",
    "\n"
   ]
  },
  {
   "cell_type": "code",
   "execution_count": 13,
   "metadata": {
    "tags": []
   },
   "outputs": [
    {
     "data": {
      "text/html": [
       "<div>\n",
       "<style scoped>\n",
       "    .dataframe tbody tr th:only-of-type {\n",
       "        vertical-align: middle;\n",
       "    }\n",
       "\n",
       "    .dataframe tbody tr th {\n",
       "        vertical-align: top;\n",
       "    }\n",
       "\n",
       "    .dataframe thead th {\n",
       "        text-align: right;\n",
       "    }\n",
       "</style>\n",
       "<table border=\"1\" class=\"dataframe\">\n",
       "  <thead>\n",
       "    <tr style=\"text-align: right;\">\n",
       "      <th></th>\n",
       "      <th>title</th>\n",
       "      <th>source</th>\n",
       "    </tr>\n",
       "  </thead>\n",
       "  <tbody>\n",
       "    <tr>\n",
       "      <th>0</th>\n",
       "      <td>organize and iterate on javascript templates f...</td>\n",
       "      <td>github</td>\n",
       "    </tr>\n",
       "    <tr>\n",
       "      <th>1</th>\n",
       "      <td>new java implementation of github api</td>\n",
       "      <td>github</td>\n",
       "    </tr>\n",
       "    <tr>\n",
       "      <th>2</th>\n",
       "      <td>show the business how new web projects should ...</td>\n",
       "      <td>github</td>\n",
       "    </tr>\n",
       "    <tr>\n",
       "      <th>3</th>\n",
       "      <td>show hn  do not type same commands</td>\n",
       "      <td>github</td>\n",
       "    </tr>\n",
       "    <tr>\n",
       "      <th>4</th>\n",
       "      <td>useful vim resources</td>\n",
       "      <td>github</td>\n",
       "    </tr>\n",
       "  </tbody>\n",
       "</table>\n",
       "</div>"
      ],
      "text/plain": [
       "                                               title  source\n",
       "0  organize and iterate on javascript templates f...  github\n",
       "1              new java implementation of github api  github\n",
       "2  show the business how new web projects should ...  github\n",
       "3                 show hn  do not type same commands  github\n",
       "4                               useful vim resources  github"
      ]
     },
     "execution_count": 13,
     "metadata": {},
     "output_type": "execute_result"
    }
   ],
   "source": [
    "bq = bigquery.Client(project=PROJECT)\n",
    "title_dataset = bq.query(query).to_dataframe()\n",
    "title_dataset.head()"
   ]
  },
  {
   "cell_type": "markdown",
   "metadata": {},
   "source": [
    "AutoML for text classification requires that\n",
    "* the dataset be in csv form with \n",
    "* the first column being the texts to classify or a GCS path to the text \n",
    "* the last colum to be the text labels\n",
    "\n",
    "The dataset we pulled from BiqQuery satisfies these requirements."
   ]
  },
  {
   "cell_type": "code",
   "execution_count": 14,
   "metadata": {
    "tags": []
   },
   "outputs": [
    {
     "name": "stdout",
     "output_type": "stream",
     "text": [
      "The full dataset contains 266442 titles\n"
     ]
    }
   ],
   "source": [
    "print(\"The full dataset contains {n} titles\".format(n=len(title_dataset)))"
   ]
  },
  {
   "cell_type": "markdown",
   "metadata": {},
   "source": [
    "Let's make sure we have roughly the same number of labels for each of our three labels:"
   ]
  },
  {
   "cell_type": "code",
   "execution_count": 15,
   "metadata": {
    "tags": []
   },
   "outputs": [
    {
     "data": {
      "text/plain": [
       "github        139395\n",
       "nytimes        73114\n",
       "techcrunch     53933\n",
       "Name: source, dtype: int64"
      ]
     },
     "execution_count": 15,
     "metadata": {},
     "output_type": "execute_result"
    }
   ],
   "source": [
    "title_dataset.source.value_counts()"
   ]
  },
  {
   "cell_type": "markdown",
   "metadata": {},
   "source": [
    "Finally we will save our data, which is currently in-memory, to disk.\n",
    "\n",
    "We will create a csv file containing the full dataset and another containing only 1000 articles for development.\n",
    "\n",
    "**Note:** It may take a long time to train AutoML on the full dataset, so we recommend to use the sample dataset for the purpose of learning the tool. \n"
   ]
  },
  {
   "cell_type": "code",
   "execution_count": 16,
   "metadata": {
    "tags": []
   },
   "outputs": [],
   "source": [
    "DATADIR = './data/'\n",
    "\n",
    "if not os.path.exists(DATADIR):\n",
    "    os.makedirs(DATADIR)"
   ]
  },
  {
   "cell_type": "code",
   "execution_count": 17,
   "metadata": {
    "tags": []
   },
   "outputs": [],
   "source": [
    "FULL_DATASET_NAME = 'titles_full.csv'\n",
    "FULL_DATASET_PATH = os.path.join(DATADIR, FULL_DATASET_NAME)\n",
    "\n",
    "# Let's shuffle the data before writing it to disk.\n",
    "title_dataset = title_dataset.sample(n=len(title_dataset))\n",
    "\n",
    "title_dataset.to_csv(\n",
    "    FULL_DATASET_PATH, header=False, index=False, encoding='utf-8')"
   ]
  },
  {
   "cell_type": "markdown",
   "metadata": {},
   "source": [
    "Now let's sample 1000 articles from the full dataset and make sure we have enough examples for each label in our sample dataset (see [here](https://cloud.google.com/natural-language/automl/docs/beginners-guide) for further details on how to prepare data for AutoML)."
   ]
  },
  {
   "cell_type": "code",
   "execution_count": 18,
   "metadata": {
    "tags": []
   },
   "outputs": [
    {
     "data": {
      "text/plain": [
       "github        521\n",
       "nytimes       274\n",
       "techcrunch    205\n",
       "Name: source, dtype: int64"
      ]
     },
     "execution_count": 18,
     "metadata": {},
     "output_type": "execute_result"
    }
   ],
   "source": [
    "sample_title_dataset = title_dataset.sample(n=1000)\n",
    "sample_title_dataset.source.value_counts()"
   ]
  },
  {
   "cell_type": "markdown",
   "metadata": {},
   "source": [
    "Let's write the sample datatset to disk."
   ]
  },
  {
   "cell_type": "code",
   "execution_count": 19,
   "metadata": {
    "tags": []
   },
   "outputs": [],
   "source": [
    "SAMPLE_DATASET_NAME = 'titles_sample.csv'\n",
    "SAMPLE_DATASET_PATH = os.path.join(DATADIR, SAMPLE_DATASET_NAME)\n",
    "\n",
    "sample_title_dataset.to_csv(\n",
    "    SAMPLE_DATASET_PATH, header=False, index=False, encoding='utf-8')"
   ]
  },
  {
   "cell_type": "code",
   "execution_count": 20,
   "metadata": {
    "tags": []
   },
   "outputs": [
    {
     "name": "stdout",
     "output_type": "stream",
     "text": [
      "2.6.5\n"
     ]
    }
   ],
   "source": [
    "import datetime\n",
    "import os\n",
    "import shutil\n",
    "\n",
    "import pandas as pd\n",
    "import tensorflow as tf\n",
    "from tensorflow.keras.callbacks import TensorBoard, EarlyStopping\n",
    "from tensorflow_hub import KerasLayer\n",
    "from tensorflow.keras.layers import Dense\n",
    "from tensorflow.keras.models import Sequential\n",
    "from tensorflow.keras.preprocessing.text import Tokenizer\n",
    "from tensorflow.keras.utils import to_categorical\n",
    "\n",
    "\n",
    "print(tf.__version__)"
   ]
  },
  {
   "cell_type": "code",
   "execution_count": 21,
   "metadata": {
    "tags": []
   },
   "outputs": [],
   "source": [
    "%matplotlib inline"
   ]
  },
  {
   "cell_type": "markdown",
   "metadata": {},
   "source": [
    "Let's start by specifying where the information about the trained models will be saved as well as where our dataset is located:"
   ]
  },
  {
   "cell_type": "code",
   "execution_count": 22,
   "metadata": {
    "tags": []
   },
   "outputs": [],
   "source": [
    "MODEL_DIR = \"./text_models\"\n",
    "DATA_DIR = \"./data\""
   ]
  },
  {
   "cell_type": "markdown",
   "metadata": {},
   "source": [
    "## Loading the dataset"
   ]
  },
  {
   "cell_type": "markdown",
   "metadata": {},
   "source": [
    "As in the previous labs, our dataset consists of titles of articles along with the label indicating from which source these articles have been taken from (GitHub, Tech-Crunch, or the New-York Times):"
   ]
  },
  {
   "cell_type": "code",
   "execution_count": 23,
   "metadata": {
    "tags": []
   },
   "outputs": [
    {
     "name": "stdout",
     "output_type": "stream",
     "text": [
      "titles_full.csv  titles_sample.csv\n"
     ]
    }
   ],
   "source": [
    "ls ./data/"
   ]
  },
  {
   "cell_type": "code",
   "execution_count": 24,
   "metadata": {
    "tags": []
   },
   "outputs": [
    {
     "data": {
      "text/html": [
       "<div>\n",
       "<style scoped>\n",
       "    .dataframe tbody tr th:only-of-type {\n",
       "        vertical-align: middle;\n",
       "    }\n",
       "\n",
       "    .dataframe tbody tr th {\n",
       "        vertical-align: top;\n",
       "    }\n",
       "\n",
       "    .dataframe thead th {\n",
       "        text-align: right;\n",
       "    }\n",
       "</style>\n",
       "<table border=\"1\" class=\"dataframe\">\n",
       "  <thead>\n",
       "    <tr style=\"text-align: right;\">\n",
       "      <th></th>\n",
       "      <th>title</th>\n",
       "      <th>source</th>\n",
       "    </tr>\n",
       "  </thead>\n",
       "  <tbody>\n",
       "    <tr>\n",
       "      <th>0</th>\n",
       "      <td>kubernetes production patterns and anti-patterns</td>\n",
       "      <td>github</td>\n",
       "    </tr>\n",
       "    <tr>\n",
       "      <th>1</th>\n",
       "      <td>which metrics matter for today s app developers</td>\n",
       "      <td>techcrunch</td>\n",
       "    </tr>\n",
       "    <tr>\n",
       "      <th>2</th>\n",
       "      <td>52 places to go in 2017</td>\n",
       "      <td>nytimes</td>\n",
       "    </tr>\n",
       "    <tr>\n",
       "      <th>3</th>\n",
       "      <td>transparency  open source  gplv2  user activit...</td>\n",
       "      <td>github</td>\n",
       "    </tr>\n",
       "    <tr>\n",
       "      <th>4</th>\n",
       "      <td>qgis server plugin to add ogc web processing s...</td>\n",
       "      <td>github</td>\n",
       "    </tr>\n",
       "  </tbody>\n",
       "</table>\n",
       "</div>"
      ],
      "text/plain": [
       "                                               title      source\n",
       "0   kubernetes production patterns and anti-patterns      github\n",
       "1   which metrics matter for today s app developers   techcrunch\n",
       "2                            52 places to go in 2017     nytimes\n",
       "3  transparency  open source  gplv2  user activit...      github\n",
       "4  qgis server plugin to add ogc web processing s...      github"
      ]
     },
     "execution_count": 24,
     "metadata": {},
     "output_type": "execute_result"
    }
   ],
   "source": [
    "DATASET_NAME = \"titles_full.csv\"\n",
    "TITLE_SAMPLE_PATH = os.path.join(DATA_DIR, DATASET_NAME)\n",
    "COLUMNS = ['title', 'source']\n",
    "\n",
    "titles_df = pd.read_csv(TITLE_SAMPLE_PATH, header=None, names=COLUMNS)\n",
    "titles_df.head()"
   ]
  },
  {
   "cell_type": "markdown",
   "metadata": {},
   "source": [
    "Let's look again at the number of examples per label to make sure we have a well-balanced dataset:"
   ]
  },
  {
   "cell_type": "code",
   "execution_count": 25,
   "metadata": {
    "tags": []
   },
   "outputs": [
    {
     "data": {
      "text/plain": [
       "github        139395\n",
       "nytimes        73114\n",
       "techcrunch     53933\n",
       "Name: source, dtype: int64"
      ]
     },
     "execution_count": 25,
     "metadata": {},
     "output_type": "execute_result"
    }
   ],
   "source": [
    "titles_df.source.value_counts()"
   ]
  },
  {
   "cell_type": "markdown",
   "metadata": {},
   "source": [
    "## Preparing the labels"
   ]
  },
  {
   "cell_type": "markdown",
   "metadata": {},
   "source": [
    "In this lab, we will use pre-trained [TF-Hub embeddings modules for english](https://tfhub.dev/s?q=tf2%20embeddings%20text%20english) for the first layer of our models. One immediate\n",
    "advantage of doing so is that the TF-Hub embedding module will take care for us of processing the raw text. \n",
    "This also means that our model will be able to consume text directly instead of sequences of integers representing the words.\n",
    "\n",
    "However, as before, we still need to preprocess the labels into one-hot-encoded vectors:"
   ]
  },
  {
   "cell_type": "code",
   "execution_count": 26,
   "metadata": {
    "tags": []
   },
   "outputs": [],
   "source": [
    "CLASSES = {\n",
    "    'github': 0,\n",
    "    'nytimes': 1,\n",
    "    'techcrunch': 2\n",
    "}\n",
    "N_CLASSES = len(CLASSES)"
   ]
  },
  {
   "cell_type": "code",
   "execution_count": 27,
   "metadata": {
    "tags": []
   },
   "outputs": [],
   "source": [
    "def encode_labels(sources):\n",
    "    classes = [CLASSES[source] for source in sources]\n",
    "    one_hots = to_categorical(classes, num_classes=N_CLASSES)\n",
    "    return one_hots"
   ]
  },
  {
   "cell_type": "code",
   "execution_count": 22,
   "metadata": {},
   "outputs": [
    {
     "data": {
      "text/plain": [
       "array([[0., 1., 0.],\n",
       "       [0., 1., 0.],\n",
       "       [1., 0., 0.],\n",
       "       [1., 0., 0.]], dtype=float32)"
      ]
     },
     "execution_count": 22,
     "metadata": {},
     "output_type": "execute_result"
    }
   ],
   "source": [
    "encode_labels(titles_df.source[:4])"
   ]
  },
  {
   "cell_type": "markdown",
   "metadata": {},
   "source": [
    "## Preparing the train/test splits"
   ]
  },
  {
   "cell_type": "markdown",
   "metadata": {},
   "source": [
    "Let's split our data into train and test splits:"
   ]
  },
  {
   "cell_type": "code",
   "execution_count": 28,
   "metadata": {
    "tags": []
   },
   "outputs": [],
   "source": [
    "N_TRAIN = int(len(titles_df) * 0.95)\n",
    "\n",
    "titles_train, sources_train = (\n",
    "    titles_df.title[:N_TRAIN], titles_df.source[:N_TRAIN])\n",
    "\n",
    "titles_valid, sources_valid = (\n",
    "    titles_df.title[N_TRAIN:], titles_df.source[N_TRAIN:])"
   ]
  },
  {
   "cell_type": "markdown",
   "metadata": {},
   "source": [
    "To be on the safe side, we verify that the train and test splits\n",
    "have roughly the same number of examples per class.\n",
    "\n",
    "Since it is the case, accuracy will be a good metric to use to measure\n",
    "the performance of our models."
   ]
  },
  {
   "cell_type": "code",
   "execution_count": 29,
   "metadata": {
    "tags": []
   },
   "outputs": [
    {
     "data": {
      "text/plain": [
       "github        132360\n",
       "nytimes        69472\n",
       "techcrunch     51287\n",
       "Name: source, dtype: int64"
      ]
     },
     "execution_count": 29,
     "metadata": {},
     "output_type": "execute_result"
    }
   ],
   "source": [
    "sources_train.value_counts()"
   ]
  },
  {
   "cell_type": "code",
   "execution_count": 30,
   "metadata": {
    "tags": []
   },
   "outputs": [
    {
     "data": {
      "text/plain": [
       "github        7035\n",
       "nytimes       3642\n",
       "techcrunch    2646\n",
       "Name: source, dtype: int64"
      ]
     },
     "execution_count": 30,
     "metadata": {},
     "output_type": "execute_result"
    }
   ],
   "source": [
    "sources_valid.value_counts()"
   ]
  },
  {
   "cell_type": "markdown",
   "metadata": {},
   "source": [
    "Now let's create the features and labels we will feed our models with:"
   ]
  },
  {
   "cell_type": "code",
   "execution_count": 32,
   "metadata": {
    "tags": []
   },
   "outputs": [],
   "source": [
    "X_train, Y_train = titles_train.values, encode_labels(sources_train)\n",
    "X_valid, Y_valid = titles_valid.values, encode_labels(sources_valid)"
   ]
  },
  {
   "cell_type": "code",
   "execution_count": 33,
   "metadata": {
    "tags": []
   },
   "outputs": [
    {
     "data": {
      "text/plain": [
       "array(['kubernetes production patterns and anti-patterns',\n",
       "       'which metrics matter for today s app developers ',\n",
       "       '52 places to go in 2017'], dtype=object)"
      ]
     },
     "execution_count": 33,
     "metadata": {},
     "output_type": "execute_result"
    }
   ],
   "source": [
    "X_train[:3]"
   ]
  },
  {
   "cell_type": "code",
   "execution_count": 35,
   "metadata": {
    "tags": []
   },
   "outputs": [
    {
     "data": {
      "text/plain": [
       "array([[1., 0., 0.],\n",
       "       [0., 0., 1.],\n",
       "       [0., 1., 0.]], dtype=float32)"
      ]
     },
     "execution_count": 35,
     "metadata": {},
     "output_type": "execute_result"
    }
   ],
   "source": [
    "Y_train[:3]"
   ]
  },
  {
   "cell_type": "markdown",
   "metadata": {},
   "source": [
    "## NNLM Model"
   ]
  },
  {
   "cell_type": "markdown",
   "metadata": {},
   "source": [
    "We will first try a word embedding pre-trained using a [Neural Probabilistic Language Model](http://www.jmlr.org/papers/volume3/bengio03a/bengio03a.pdf). TF-Hub has a 50-dimensional one called \n",
    "[nnlm-en-dim50-with-normalization](https://tfhub.dev/google/tf2-preview/nnlm-en-dim50/1), which also\n",
    "normalizes the vectors produced. \n",
    "\n",
    "Once loaded from its url, the TF-hub module can be used as a normal Keras layer in a sequential or functional model. Since we have enough data to fine-tune the parameters of the pre-trained embedding itself, we will set `trainable=True` in the `KerasLayer` that loads the pre-trained embedding:"
   ]
  },
  {
   "cell_type": "code",
   "execution_count": 36,
   "metadata": {
    "tags": []
   },
   "outputs": [
    {
     "name": "stderr",
     "output_type": "stream",
     "text": [
      "2023-12-08 16:45:59.749504: W tensorflow/stream_executor/platform/default/dso_loader.cc:64] Could not load dynamic library 'libcuda.so.1'; dlerror: libcuda.so.1: cannot open shared object file: No such file or directory; LD_LIBRARY_PATH: /usr/local/cuda/lib64:/usr/local/nccl2/lib:/usr/local/cuda/extras/CUPTI/lib64\n",
      "2023-12-08 16:45:59.749558: W tensorflow/stream_executor/cuda/cuda_driver.cc:269] failed call to cuInit: UNKNOWN ERROR (303)\n",
      "2023-12-08 16:45:59.749589: I tensorflow/stream_executor/cuda/cuda_diagnostics.cc:156] kernel driver does not appear to be running on this host (instance-20231209-004742): /proc/driver/nvidia/version does not exist\n",
      "2023-12-08 16:45:59.750013: I tensorflow/core/platform/cpu_feature_guard.cc:142] This TensorFlow binary is optimized with oneAPI Deep Neural Network Library (oneDNN) to use the following CPU instructions in performance-critical operations:  AVX2 FMA\n",
      "To enable them in other operations, rebuild TensorFlow with the appropriate compiler flags.\n",
      "2023-12-08 16:45:59.837520: I tensorflow/compiler/mlir/mlir_graph_optimization_pass.cc:185] None of the MLIR Optimization Passes are enabled (registered 2)\n"
     ]
    }
   ],
   "source": [
    "# TODO 1\n",
    "NNLM = \"https://tfhub.dev/google/nnlm-en-dim50/2\"\n",
    "\n",
    "nnlm_module = KerasLayer(\n",
    "    NNLM, output_shape=[50], input_shape=[], dtype=tf.string, trainable=True)"
   ]
  },
  {
   "cell_type": "markdown",
   "metadata": {},
   "source": [
    "Note that this TF-Hub embedding produces a single 50-dimensional vector when passed a sentence:"
   ]
  },
  {
   "cell_type": "code",
   "execution_count": 37,
   "metadata": {
    "tags": []
   },
   "outputs": [
    {
     "data": {
      "text/plain": [
       "<tf.Tensor: shape=(1, 50), dtype=float32, numpy=\n",
       "array([[ 0.19331802,  0.05893906,  0.15330684,  0.2505918 ,  0.19369544,\n",
       "         0.03578748,  0.07387847, -0.10962156, -0.11377034,  0.07172022,\n",
       "         0.12458669, -0.02289705, -0.18177685, -0.07084437, -0.00225849,\n",
       "        -0.36875236,  0.05772953, -0.14222091,  0.08765972, -0.14068899,\n",
       "        -0.07005888, -0.20634466,  0.07220475,  0.04258814,  0.0955702 ,\n",
       "         0.19424029, -0.42492998, -0.00706906, -0.02095   , -0.05055764,\n",
       "        -0.18988201, -0.02841404,  0.13222624, -0.01459922, -0.31255388,\n",
       "        -0.09577855,  0.05469003, -0.13858607,  0.01141668, -0.12352604,\n",
       "        -0.07250367, -0.11605677, -0.06976165,  0.14313601, -0.15183711,\n",
       "        -0.06836402,  0.03054246, -0.13259597, -0.14599673,  0.05094011]],\n",
       "      dtype=float32)>"
      ]
     },
     "execution_count": 37,
     "metadata": {},
     "output_type": "execute_result"
    }
   ],
   "source": [
    "# TODO 1\n",
    "nnlm_module(tf.constant([\"The dog is happy to see people in the street.\"]))"
   ]
  },
  {
   "cell_type": "markdown",
   "metadata": {},
   "source": [
    "## Swivel Model"
   ]
  },
  {
   "cell_type": "markdown",
   "metadata": {},
   "source": [
    "Then we will try a word embedding obtained using [Swivel](https://arxiv.org/abs/1602.02215), an algorithm that essentially factorizes word co-occurrence matrices to create the words embeddings. \n",
    "TF-Hub hosts the pretrained [gnews-swivel-20dim-with-oov](https://tfhub.dev/google/tf2-preview/gnews-swivel-20dim-with-oov/1) 20-dimensional Swivel module."
   ]
  },
  {
   "cell_type": "code",
   "execution_count": 38,
   "metadata": {
    "tags": []
   },
   "outputs": [],
   "source": [
    "# TODO 1\n",
    "SWIVEL = \"https://tfhub.dev/google/tf2-preview/gnews-swivel-20dim-with-oov/1\"\n",
    "swivel_module = KerasLayer(\n",
    "    SWIVEL, output_shape=[20], input_shape=[], dtype=tf.string, trainable=True)"
   ]
  },
  {
   "cell_type": "markdown",
   "metadata": {},
   "source": [
    "Similarly as the previous pre-trained embedding, it outputs a single vector when passed a sentence:"
   ]
  },
  {
   "cell_type": "code",
   "execution_count": 39,
   "metadata": {
    "tags": []
   },
   "outputs": [
    {
     "data": {
      "text/plain": [
       "<tf.Tensor: shape=(1, 20), dtype=float32, numpy=\n",
       "array([[ 0.9967701 , -0.3100155 ,  0.5889897 , -0.16765082, -0.6171738 ,\n",
       "        -1.1586996 , -0.8619045 ,  0.7281645 ,  0.32575002,  0.4754492 ,\n",
       "        -0.9272241 ,  0.41090095, -0.75389475, -0.31525993, -1.8918804 ,\n",
       "         0.6423996 ,  0.6801622 , -0.1335669 , -1.0017993 , -0.11908641]],\n",
       "      dtype=float32)>"
      ]
     },
     "execution_count": 39,
     "metadata": {},
     "output_type": "execute_result"
    }
   ],
   "source": [
    "# TODO 1\n",
    "swivel_module(tf.constant([\"The dog is happy to see people in the street.\"]))"
   ]
  },
  {
   "cell_type": "markdown",
   "metadata": {},
   "source": [
    "## Building the models"
   ]
  },
  {
   "cell_type": "markdown",
   "metadata": {},
   "source": [
    "Let's write a function that \n",
    "\n",
    "* takes as input an instance of a `KerasLayer` (i.e. the `swivel_module` or the `nnlm_module` we constructed above) as well as the name of the model (say `swivel` or `nnlm`)\n",
    "* returns a compiled Keras sequential model starting with this pre-trained TF-hub layer, adding one or more dense relu layers to it, and ending with a softmax layer giving the probability of each of the classes:"
   ]
  },
  {
   "cell_type": "code",
   "execution_count": 40,
   "metadata": {
    "tags": []
   },
   "outputs": [],
   "source": [
    "def build_model(hub_module, name):\n",
    "    model = Sequential([\n",
    "        hub_module, # TODO 2\n",
    "        Dense(16, activation='relu'),\n",
    "        Dense(N_CLASSES, activation='softmax')\n",
    "    ], name=name)\n",
    "\n",
    "    model.compile(\n",
    "        optimizer='adam',\n",
    "        loss='categorical_crossentropy',\n",
    "        metrics=['accuracy']\n",
    "    )\n",
    "    return model"
   ]
  },
  {
   "cell_type": "markdown",
   "metadata": {},
   "source": [
    "Let's also wrap the training code into a `train_and_evaluate` function that \n",
    "* takes as input the training and validation data, as well as the compiled model itself, and the `batch_size`\n",
    "* trains the compiled model for 100 epochs at most, and does early-stopping when the validation loss is no longer decreasing\n",
    "* returns an `history` object, which will help us to plot the learning curves"
   ]
  },
  {
   "cell_type": "code",
   "execution_count": 41,
   "metadata": {
    "tags": []
   },
   "outputs": [],
   "source": [
    "def train_and_evaluate(train_data, val_data, model, batch_size=5000):\n",
    "    X_train, Y_train = train_data\n",
    "\n",
    "    tf.random.set_seed(33)\n",
    "\n",
    "    model_dir = os.path.join(MODEL_DIR, model.name)\n",
    "    if tf.io.gfile.exists(model_dir):\n",
    "        tf.io.gfile.rmtree(model_dir)\n",
    "\n",
    "    history = model.fit(\n",
    "        X_train, Y_train,\n",
    "        epochs=50,\n",
    "        batch_size=batch_size,\n",
    "        validation_data=val_data,\n",
    "        callbacks=TensorBoard(model_dir),\n",
    "    )\n",
    "    return history"
   ]
  },
  {
   "cell_type": "markdown",
   "metadata": {},
   "source": [
    "## Training NNLM"
   ]
  },
  {
   "cell_type": "code",
   "execution_count": 42,
   "metadata": {
    "tags": []
   },
   "outputs": [],
   "source": [
    "data = (X_train, Y_train)\n",
    "val_data = (X_valid, Y_valid)"
   ]
  },
  {
   "cell_type": "code",
   "execution_count": 43,
   "metadata": {
    "tags": []
   },
   "outputs": [
    {
     "name": "stderr",
     "output_type": "stream",
     "text": [
      "2023-12-08 16:47:09.085868: I tensorflow/core/profiler/lib/profiler_session.cc:131] Profiler session initializing.\n",
      "2023-12-08 16:47:09.086085: I tensorflow/core/profiler/lib/profiler_session.cc:146] Profiler session started.\n",
      "2023-12-08 16:47:09.089894: I tensorflow/core/profiler/lib/profiler_session.cc:164] Profiler session tear down.\n"
     ]
    },
    {
     "name": "stdout",
     "output_type": "stream",
     "text": [
      "Epoch 1/50\n",
      " 1/51 [..............................] - ETA: 59s - loss: 1.1123 - accuracy: 0.3088"
     ]
    },
    {
     "name": "stderr",
     "output_type": "stream",
     "text": [
      "2023-12-08 16:47:10.419766: I tensorflow/core/profiler/lib/profiler_session.cc:131] Profiler session initializing.\n",
      "2023-12-08 16:47:10.420422: I tensorflow/core/profiler/lib/profiler_session.cc:146] Profiler session started.\n"
     ]
    },
    {
     "name": "stdout",
     "output_type": "stream",
     "text": [
      " 2/51 [>.............................] - ETA: 29s - loss: 1.1055 - accuracy: 0.3269"
     ]
    },
    {
     "name": "stderr",
     "output_type": "stream",
     "text": [
      "2023-12-08 16:47:11.014179: I tensorflow/core/profiler/lib/profiler_session.cc:66] Profiler session collecting data.\n",
      "2023-12-08 16:47:11.016809: I tensorflow/core/profiler/lib/profiler_session.cc:164] Profiler session tear down.\n",
      "2023-12-08 16:47:11.028183: I tensorflow/core/profiler/rpc/client/save_profile.cc:136] Creating directory: ./text_models/nnlm/train/plugins/profile/2023_12_08_16_47_11\n",
      "\n",
      "2023-12-08 16:47:11.029873: I tensorflow/core/profiler/rpc/client/save_profile.cc:142] Dumped gzipped tool data for trace.json.gz to ./text_models/nnlm/train/plugins/profile/2023_12_08_16_47_11/instance-20231209-004742.trace.json.gz\n",
      "2023-12-08 16:47:11.043113: I tensorflow/core/profiler/rpc/client/save_profile.cc:136] Creating directory: ./text_models/nnlm/train/plugins/profile/2023_12_08_16_47_11\n",
      "\n",
      "2023-12-08 16:47:11.043544: I tensorflow/core/profiler/rpc/client/save_profile.cc:142] Dumped gzipped tool data for memory_profile.json.gz to ./text_models/nnlm/train/plugins/profile/2023_12_08_16_47_11/instance-20231209-004742.memory_profile.json.gz\n",
      "2023-12-08 16:47:11.044114: I tensorflow/core/profiler/rpc/client/capture_profile.cc:251] Creating directory: ./text_models/nnlm/train/plugins/profile/2023_12_08_16_47_11\n",
      "Dumped tool data for xplane.pb to ./text_models/nnlm/train/plugins/profile/2023_12_08_16_47_11/instance-20231209-004742.xplane.pb\n",
      "Dumped tool data for overview_page.pb to ./text_models/nnlm/train/plugins/profile/2023_12_08_16_47_11/instance-20231209-004742.overview_page.pb\n",
      "Dumped tool data for input_pipeline.pb to ./text_models/nnlm/train/plugins/profile/2023_12_08_16_47_11/instance-20231209-004742.input_pipeline.pb\n",
      "Dumped tool data for tensorflow_stats.pb to ./text_models/nnlm/train/plugins/profile/2023_12_08_16_47_11/instance-20231209-004742.tensorflow_stats.pb\n",
      "Dumped tool data for kernel_stats.pb to ./text_models/nnlm/train/plugins/profile/2023_12_08_16_47_11/instance-20231209-004742.kernel_stats.pb\n",
      "\n"
     ]
    },
    {
     "name": "stdout",
     "output_type": "stream",
     "text": [
      "51/51 [==============================] - 31s 604ms/step - loss: 0.8885 - accuracy: 0.6441 - val_loss: 0.6467 - val_accuracy: 0.7711\n",
      "Epoch 2/50\n",
      "51/51 [==============================] - 31s 605ms/step - loss: 0.4989 - accuracy: 0.8215 - val_loss: 0.3971 - val_accuracy: 0.8545\n",
      "Epoch 3/50\n",
      "51/51 [==============================] - 30s 591ms/step - loss: 0.3404 - accuracy: 0.8749 - val_loss: 0.3218 - val_accuracy: 0.8759\n",
      "Epoch 4/50\n",
      "51/51 [==============================] - 30s 597ms/step - loss: 0.2804 - accuracy: 0.8944 - val_loss: 0.2937 - val_accuracy: 0.8844\n",
      "Epoch 5/50\n",
      "51/51 [==============================] - 31s 604ms/step - loss: 0.2486 - accuracy: 0.9062 - val_loss: 0.2822 - val_accuracy: 0.8891\n",
      "Epoch 6/50\n",
      "51/51 [==============================] - 31s 615ms/step - loss: 0.2277 - accuracy: 0.9141 - val_loss: 0.2767 - val_accuracy: 0.8928\n",
      "Epoch 7/50\n",
      "51/51 [==============================] - 31s 602ms/step - loss: 0.2126 - accuracy: 0.9203 - val_loss: 0.2756 - val_accuracy: 0.8942\n",
      "Epoch 8/50\n",
      "51/51 [==============================] - 31s 606ms/step - loss: 0.2008 - accuracy: 0.9249 - val_loss: 0.2771 - val_accuracy: 0.8926\n",
      "Epoch 9/50\n",
      "51/51 [==============================] - 30s 593ms/step - loss: 0.1914 - accuracy: 0.9287 - val_loss: 0.2801 - val_accuracy: 0.8922\n",
      "Epoch 10/50\n",
      "51/51 [==============================] - 31s 608ms/step - loss: 0.1837 - accuracy: 0.9320 - val_loss: 0.2838 - val_accuracy: 0.8921\n",
      "Epoch 11/50\n",
      "51/51 [==============================] - 30s 595ms/step - loss: 0.1771 - accuracy: 0.9347 - val_loss: 0.2877 - val_accuracy: 0.8929\n",
      "Epoch 12/50\n",
      "51/51 [==============================] - 31s 609ms/step - loss: 0.1718 - accuracy: 0.9370 - val_loss: 0.2930 - val_accuracy: 0.8914\n",
      "Epoch 13/50\n",
      "51/51 [==============================] - 30s 597ms/step - loss: 0.1669 - accuracy: 0.9389 - val_loss: 0.2986 - val_accuracy: 0.8903\n",
      "Epoch 14/50\n",
      "51/51 [==============================] - 31s 617ms/step - loss: 0.1627 - accuracy: 0.9406 - val_loss: 0.3042 - val_accuracy: 0.8896\n",
      "Epoch 15/50\n",
      "51/51 [==============================] - 30s 591ms/step - loss: 0.1590 - accuracy: 0.9417 - val_loss: 0.3085 - val_accuracy: 0.8894\n",
      "Epoch 16/50\n",
      "51/51 [==============================] - 31s 599ms/step - loss: 0.1557 - accuracy: 0.9429 - val_loss: 0.3148 - val_accuracy: 0.8885\n",
      "Epoch 17/50\n",
      "51/51 [==============================] - 31s 600ms/step - loss: 0.1527 - accuracy: 0.9440 - val_loss: 0.3201 - val_accuracy: 0.8868\n",
      "Epoch 18/50\n",
      "51/51 [==============================] - 32s 620ms/step - loss: 0.1498 - accuracy: 0.9450 - val_loss: 0.3255 - val_accuracy: 0.8858\n",
      "Epoch 19/50\n",
      "51/51 [==============================] - 30s 597ms/step - loss: 0.1472 - accuracy: 0.9461 - val_loss: 0.3312 - val_accuracy: 0.8864\n",
      "Epoch 20/50\n",
      "51/51 [==============================] - 31s 606ms/step - loss: 0.1447 - accuracy: 0.9470 - val_loss: 0.3358 - val_accuracy: 0.8854\n",
      "Epoch 21/50\n",
      "51/51 [==============================] - 30s 597ms/step - loss: 0.1424 - accuracy: 0.9478 - val_loss: 0.3405 - val_accuracy: 0.8846\n",
      "Epoch 22/50\n",
      "51/51 [==============================] - 31s 607ms/step - loss: 0.1404 - accuracy: 0.9488 - val_loss: 0.3452 - val_accuracy: 0.8842\n",
      "Epoch 23/50\n",
      "51/51 [==============================] - 31s 601ms/step - loss: 0.1379 - accuracy: 0.9495 - val_loss: 0.3502 - val_accuracy: 0.8838\n",
      "Epoch 24/50\n",
      "51/51 [==============================] - 31s 605ms/step - loss: 0.1359 - accuracy: 0.9507 - val_loss: 0.3558 - val_accuracy: 0.8843\n",
      "Epoch 25/50\n",
      "51/51 [==============================] - 30s 594ms/step - loss: 0.1337 - accuracy: 0.9512 - val_loss: 0.3609 - val_accuracy: 0.8846\n",
      "Epoch 26/50\n",
      "51/51 [==============================] - 31s 608ms/step - loss: 0.1316 - accuracy: 0.9521 - val_loss: 0.3651 - val_accuracy: 0.8834\n",
      "Epoch 27/50\n",
      "51/51 [==============================] - 30s 593ms/step - loss: 0.1296 - accuracy: 0.9528 - val_loss: 0.3698 - val_accuracy: 0.8843\n",
      "Epoch 28/50\n",
      "51/51 [==============================] - 31s 614ms/step - loss: 0.1276 - accuracy: 0.9538 - val_loss: 0.3745 - val_accuracy: 0.8843\n",
      "Epoch 29/50\n",
      "51/51 [==============================] - 30s 594ms/step - loss: 0.1255 - accuracy: 0.9546 - val_loss: 0.3793 - val_accuracy: 0.8840\n",
      "Epoch 30/50\n",
      "51/51 [==============================] - 31s 615ms/step - loss: 0.1235 - accuracy: 0.9553 - val_loss: 0.3850 - val_accuracy: 0.8847\n",
      "Epoch 31/50\n",
      "51/51 [==============================] - 30s 593ms/step - loss: 0.1215 - accuracy: 0.9561 - val_loss: 0.3884 - val_accuracy: 0.8822\n",
      "Epoch 32/50\n",
      "51/51 [==============================] - 30s 596ms/step - loss: 0.1194 - accuracy: 0.9572 - val_loss: 0.3947 - val_accuracy: 0.8829\n",
      "Epoch 33/50\n",
      "51/51 [==============================] - 30s 592ms/step - loss: 0.1172 - accuracy: 0.9582 - val_loss: 0.3986 - val_accuracy: 0.8825\n",
      "Epoch 34/50\n",
      "51/51 [==============================] - 32s 618ms/step - loss: 0.1151 - accuracy: 0.9593 - val_loss: 0.4037 - val_accuracy: 0.8823\n",
      "Epoch 35/50\n",
      "51/51 [==============================] - 30s 594ms/step - loss: 0.1130 - accuracy: 0.9601 - val_loss: 0.4087 - val_accuracy: 0.8829\n",
      "Epoch 36/50\n",
      "51/51 [==============================] - 31s 602ms/step - loss: 0.1108 - accuracy: 0.9609 - val_loss: 0.4134 - val_accuracy: 0.8824\n",
      "Epoch 37/50\n",
      "51/51 [==============================] - 31s 607ms/step - loss: 0.1088 - accuracy: 0.9618 - val_loss: 0.4185 - val_accuracy: 0.8828\n",
      "Epoch 38/50\n",
      "51/51 [==============================] - 31s 614ms/step - loss: 0.1066 - accuracy: 0.9630 - val_loss: 0.4234 - val_accuracy: 0.8837\n",
      "Epoch 39/50\n",
      "51/51 [==============================] - 30s 596ms/step - loss: 0.1044 - accuracy: 0.9641 - val_loss: 0.4294 - val_accuracy: 0.8831\n",
      "Epoch 40/50\n",
      "51/51 [==============================] - 30s 596ms/step - loss: 0.1024 - accuracy: 0.9648 - val_loss: 0.4339 - val_accuracy: 0.8822\n",
      "Epoch 41/50\n",
      "51/51 [==============================] - 31s 605ms/step - loss: 0.1002 - accuracy: 0.9655 - val_loss: 0.4403 - val_accuracy: 0.8819\n",
      "Epoch 42/50\n",
      "51/51 [==============================] - 31s 602ms/step - loss: 0.0981 - accuracy: 0.9665 - val_loss: 0.4458 - val_accuracy: 0.8817\n",
      "Epoch 43/50\n",
      "51/51 [==============================] - 31s 607ms/step - loss: 0.0959 - accuracy: 0.9674 - val_loss: 0.4516 - val_accuracy: 0.8825\n",
      "Epoch 44/50\n",
      "51/51 [==============================] - 30s 595ms/step - loss: 0.0940 - accuracy: 0.9682 - val_loss: 0.4579 - val_accuracy: 0.8815\n",
      "Epoch 45/50\n",
      "51/51 [==============================] - 31s 609ms/step - loss: 0.0919 - accuracy: 0.9691 - val_loss: 0.4630 - val_accuracy: 0.8828\n",
      "Epoch 46/50\n",
      "51/51 [==============================] - 31s 606ms/step - loss: 0.0898 - accuracy: 0.9699 - val_loss: 0.4706 - val_accuracy: 0.8831\n",
      "Epoch 47/50\n",
      "51/51 [==============================] - 31s 603ms/step - loss: 0.0878 - accuracy: 0.9708 - val_loss: 0.4765 - val_accuracy: 0.8831\n",
      "Epoch 48/50\n",
      "51/51 [==============================] - 30s 595ms/step - loss: 0.0857 - accuracy: 0.9716 - val_loss: 0.4820 - val_accuracy: 0.8821\n",
      "Epoch 49/50\n",
      "51/51 [==============================] - 31s 610ms/step - loss: 0.0839 - accuracy: 0.9724 - val_loss: 0.4873 - val_accuracy: 0.8826\n",
      "Epoch 50/50\n",
      "51/51 [==============================] - 31s 616ms/step - loss: 0.0818 - accuracy: 0.9731 - val_loss: 0.4950 - val_accuracy: 0.8828\n"
     ]
    }
   ],
   "source": [
    "nnlm_model = build_model(nnlm_module, 'nnlm')\n",
    "nnlm_history = train_and_evaluate(data, val_data, nnlm_model)"
   ]
  },
  {
   "cell_type": "code",
   "execution_count": 38,
   "metadata": {},
   "outputs": [
    {
     "data": {
      "text/plain": [
       "<AxesSubplot: >"
      ]
     },
     "execution_count": 38,
     "metadata": {},
     "output_type": "execute_result"
    },
    {
     "data": {
      "image/png": "[encoded data removed]",
      "text/plain": [
       "<Figure size 640x480 with 1 Axes>"
      ]
     },
     "metadata": {},
     "output_type": "display_data"
    },
    {
     "data": {
      "image/png": "[encoded data removed]",
      "text/plain": [
       "<Figure size 640x480 with 1 Axes>"
      ]
     },
     "metadata": {},
     "output_type": "display_data"
    }
   ],
   "source": [
    "history = nnlm_history\n",
    "pd.DataFrame(history.history)[['loss', 'val_loss']].plot()\n",
    "pd.DataFrame(history.history)[['accuracy', 'val_accuracy']].plot()"
   ]
  },
  {
   "cell_type": "markdown",
   "metadata": {},
   "source": [
    "## Training Swivel"
   ]
  },
  {
   "cell_type": "code",
   "execution_count": 46,
   "metadata": {
    "tags": []
   },
   "outputs": [],
   "source": [
    "swivel_model = build_model(swivel_module, name='swivel')"
   ]
  },
  {
   "cell_type": "code",
   "execution_count": 47,
   "metadata": {
    "tags": []
   },
   "outputs": [
    {
     "name": "stderr",
     "output_type": "stream",
     "text": [
      "2023-12-08 17:27:11.334694: I tensorflow/core/profiler/lib/profiler_session.cc:131] Profiler session initializing.\n",
      "2023-12-08 17:27:11.334925: I tensorflow/core/profiler/lib/profiler_session.cc:146] Profiler session started.\n",
      "2023-12-08 17:27:11.335149: I tensorflow/core/profiler/lib/profiler_session.cc:164] Profiler session tear down.\n"
     ]
    },
    {
     "name": "stdout",
     "output_type": "stream",
     "text": [
      "Epoch 1/50\n",
      " 6/51 [==>...........................] - ETA: 1s - loss: 1.3264 - accuracy: 0.2761"
     ]
    },
    {
     "name": "stderr",
     "output_type": "stream",
     "text": [
      "2023-12-08 17:27:11.941872: I tensorflow/core/profiler/lib/profiler_session.cc:131] Profiler session initializing.\n",
      "2023-12-08 17:27:11.941943: I tensorflow/core/profiler/lib/profiler_session.cc:146] Profiler session started.\n",
      "2023-12-08 17:27:12.003796: I tensorflow/core/profiler/lib/profiler_session.cc:66] Profiler session collecting data.\n",
      "2023-12-08 17:27:12.005403: I tensorflow/core/profiler/lib/profiler_session.cc:164] Profiler session tear down.\n",
      "2023-12-08 17:27:12.007820: I tensorflow/core/profiler/rpc/client/save_profile.cc:136] Creating directory: ./text_models/swivel/train/plugins/profile/2023_12_08_17_27_12\n",
      "\n",
      "2023-12-08 17:27:12.009077: I tensorflow/core/profiler/rpc/client/save_profile.cc:142] Dumped gzipped tool data for trace.json.gz to ./text_models/swivel/train/plugins/profile/2023_12_08_17_27_12/instance-20231209-004742.trace.json.gz\n",
      "2023-12-08 17:27:12.010979: I tensorflow/core/profiler/rpc/client/save_profile.cc:136] Creating directory: ./text_models/swivel/train/plugins/profile/2023_12_08_17_27_12\n",
      "\n",
      "2023-12-08 17:27:12.011182: I tensorflow/core/profiler/rpc/client/save_profile.cc:142] Dumped gzipped tool data for memory_profile.json.gz to ./text_models/swivel/train/plugins/profile/2023_12_08_17_27_12/instance-20231209-004742.memory_profile.json.gz\n",
      "2023-12-08 17:27:12.011620: I tensorflow/core/profiler/rpc/client/capture_profile.cc:251] Creating directory: ./text_models/swivel/train/plugins/profile/2023_12_08_17_27_12\n",
      "Dumped tool data for xplane.pb to ./text_models/swivel/train/plugins/profile/2023_12_08_17_27_12/instance-20231209-004742.xplane.pb\n",
      "Dumped tool data for overview_page.pb to ./text_models/swivel/train/plugins/profile/2023_12_08_17_27_12/instance-20231209-004742.overview_page.pb\n",
      "Dumped tool data for input_pipeline.pb to ./text_models/swivel/train/plugins/profile/2023_12_08_17_27_12/instance-20231209-004742.input_pipeline.pb\n",
      "Dumped tool data for tensorflow_stats.pb to ./text_models/swivel/train/plugins/profile/2023_12_08_17_27_12/instance-20231209-004742.tensorflow_stats.pb\n",
      "Dumped tool data for kernel_stats.pb to ./text_models/swivel/train/plugins/profile/2023_12_08_17_27_12/instance-20231209-004742.kernel_stats.pb\n",
      "\n"
     ]
    },
    {
     "name": "stdout",
     "output_type": "stream",
     "text": [
      "51/51 [==============================] - 2s 29ms/step - loss: 1.0795 - accuracy: 0.4521 - val_loss: 0.8909 - val_accuracy: 0.6119\n",
      "Epoch 2/50\n",
      "51/51 [==============================] - 1s 25ms/step - loss: 0.8134 - accuracy: 0.6495 - val_loss: 0.7383 - val_accuracy: 0.6848\n",
      "Epoch 3/50\n",
      "51/51 [==============================] - 1s 25ms/step - loss: 0.6781 - accuracy: 0.7171 - val_loss: 0.6199 - val_accuracy: 0.7435\n",
      "Epoch 4/50\n",
      "51/51 [==============================] - 1s 24ms/step - loss: 0.5726 - accuracy: 0.7651 - val_loss: 0.5342 - val_accuracy: 0.7805\n",
      "Epoch 5/50\n",
      "51/51 [==============================] - 1s 25ms/step - loss: 0.5016 - accuracy: 0.7948 - val_loss: 0.4809 - val_accuracy: 0.8031\n",
      "Epoch 6/50\n",
      "51/51 [==============================] - 1s 25ms/step - loss: 0.4564 - accuracy: 0.8137 - val_loss: 0.4469 - val_accuracy: 0.8160\n",
      "Epoch 7/50\n",
      "51/51 [==============================] - 1s 25ms/step - loss: 0.4255 - accuracy: 0.8271 - val_loss: 0.4238 - val_accuracy: 0.8248\n",
      "Epoch 8/50\n",
      "51/51 [==============================] - 1s 25ms/step - loss: 0.4028 - accuracy: 0.8371 - val_loss: 0.4074 - val_accuracy: 0.8334\n",
      "Epoch 9/50\n",
      "51/51 [==============================] - 1s 25ms/step - loss: 0.3853 - accuracy: 0.8451 - val_loss: 0.3950 - val_accuracy: 0.8376\n",
      "Epoch 10/50\n",
      "51/51 [==============================] - 1s 25ms/step - loss: 0.3714 - accuracy: 0.8510 - val_loss: 0.3859 - val_accuracy: 0.8434\n",
      "Epoch 11/50\n",
      "51/51 [==============================] - 1s 25ms/step - loss: 0.3602 - accuracy: 0.8563 - val_loss: 0.3792 - val_accuracy: 0.8469\n",
      "Epoch 12/50\n",
      "51/51 [==============================] - 1s 24ms/step - loss: 0.3510 - accuracy: 0.8603 - val_loss: 0.3737 - val_accuracy: 0.8499\n",
      "Epoch 13/50\n",
      "51/51 [==============================] - 1s 24ms/step - loss: 0.3432 - accuracy: 0.8635 - val_loss: 0.3701 - val_accuracy: 0.8515\n",
      "Epoch 14/50\n",
      "51/51 [==============================] - 1s 24ms/step - loss: 0.3368 - accuracy: 0.8661 - val_loss: 0.3668 - val_accuracy: 0.8531\n",
      "Epoch 15/50\n",
      "51/51 [==============================] - 1s 24ms/step - loss: 0.3312 - accuracy: 0.8683 - val_loss: 0.3644 - val_accuracy: 0.8545\n",
      "Epoch 16/50\n",
      "51/51 [==============================] - 1s 25ms/step - loss: 0.3263 - accuracy: 0.8704 - val_loss: 0.3629 - val_accuracy: 0.8551\n",
      "Epoch 17/50\n",
      "51/51 [==============================] - 1s 28ms/step - loss: 0.3220 - accuracy: 0.8722 - val_loss: 0.3617 - val_accuracy: 0.8569\n",
      "Epoch 18/50\n",
      "51/51 [==============================] - 1s 26ms/step - loss: 0.3183 - accuracy: 0.8737 - val_loss: 0.3607 - val_accuracy: 0.8565\n",
      "Epoch 19/50\n",
      "51/51 [==============================] - 1s 25ms/step - loss: 0.3149 - accuracy: 0.8751 - val_loss: 0.3601 - val_accuracy: 0.8574\n",
      "Epoch 20/50\n",
      "51/51 [==============================] - 1s 25ms/step - loss: 0.3119 - accuracy: 0.8766 - val_loss: 0.3596 - val_accuracy: 0.8580\n",
      "Epoch 21/50\n",
      "51/51 [==============================] - 1s 24ms/step - loss: 0.3093 - accuracy: 0.8777 - val_loss: 0.3594 - val_accuracy: 0.8590\n",
      "Epoch 22/50\n",
      "51/51 [==============================] - 1s 24ms/step - loss: 0.3068 - accuracy: 0.8787 - val_loss: 0.3593 - val_accuracy: 0.8579\n",
      "Epoch 23/50\n",
      "51/51 [==============================] - 1s 24ms/step - loss: 0.3045 - accuracy: 0.8798 - val_loss: 0.3594 - val_accuracy: 0.8577\n",
      "Epoch 24/50\n",
      "51/51 [==============================] - 1s 24ms/step - loss: 0.3024 - accuracy: 0.8808 - val_loss: 0.3597 - val_accuracy: 0.8587\n",
      "Epoch 25/50\n",
      "51/51 [==============================] - 1s 24ms/step - loss: 0.3005 - accuracy: 0.8816 - val_loss: 0.3596 - val_accuracy: 0.8591\n",
      "Epoch 26/50\n",
      "51/51 [==============================] - 1s 25ms/step - loss: 0.2987 - accuracy: 0.8825 - val_loss: 0.3599 - val_accuracy: 0.8596\n",
      "Epoch 27/50\n",
      "51/51 [==============================] - 1s 24ms/step - loss: 0.2970 - accuracy: 0.8831 - val_loss: 0.3603 - val_accuracy: 0.8594\n",
      "Epoch 28/50\n",
      "51/51 [==============================] - 1s 25ms/step - loss: 0.2955 - accuracy: 0.8839 - val_loss: 0.3604 - val_accuracy: 0.8604\n",
      "Epoch 29/50\n",
      "51/51 [==============================] - 1s 24ms/step - loss: 0.2940 - accuracy: 0.8845 - val_loss: 0.3604 - val_accuracy: 0.8597\n",
      "Epoch 30/50\n",
      "51/51 [==============================] - 1s 25ms/step - loss: 0.2926 - accuracy: 0.8851 - val_loss: 0.3612 - val_accuracy: 0.8608\n",
      "Epoch 31/50\n",
      "51/51 [==============================] - 1s 24ms/step - loss: 0.2913 - accuracy: 0.8857 - val_loss: 0.3615 - val_accuracy: 0.8601\n",
      "Epoch 32/50\n",
      "51/51 [==============================] - 1s 25ms/step - loss: 0.2899 - accuracy: 0.8863 - val_loss: 0.3624 - val_accuracy: 0.8605\n",
      "Epoch 33/50\n",
      "51/51 [==============================] - 1s 25ms/step - loss: 0.2888 - accuracy: 0.8869 - val_loss: 0.3627 - val_accuracy: 0.8599\n",
      "Epoch 34/50\n",
      "51/51 [==============================] - 1s 25ms/step - loss: 0.2876 - accuracy: 0.8874 - val_loss: 0.3630 - val_accuracy: 0.8608\n",
      "Epoch 35/50\n",
      "51/51 [==============================] - 1s 24ms/step - loss: 0.2864 - accuracy: 0.8882 - val_loss: 0.3633 - val_accuracy: 0.8594\n",
      "Epoch 36/50\n",
      "51/51 [==============================] - 1s 24ms/step - loss: 0.2853 - accuracy: 0.8884 - val_loss: 0.3640 - val_accuracy: 0.8599\n",
      "Epoch 37/50\n",
      "51/51 [==============================] - 1s 25ms/step - loss: 0.2842 - accuracy: 0.8889 - val_loss: 0.3649 - val_accuracy: 0.8598\n",
      "Epoch 38/50\n",
      "51/51 [==============================] - 1s 24ms/step - loss: 0.2832 - accuracy: 0.8895 - val_loss: 0.3656 - val_accuracy: 0.8607\n",
      "Epoch 39/50\n",
      "51/51 [==============================] - 1s 25ms/step - loss: 0.2821 - accuracy: 0.8902 - val_loss: 0.3653 - val_accuracy: 0.8607\n",
      "Epoch 40/50\n",
      "51/51 [==============================] - 1s 26ms/step - loss: 0.2811 - accuracy: 0.8903 - val_loss: 0.3660 - val_accuracy: 0.8601\n",
      "Epoch 41/50\n",
      "51/51 [==============================] - 2s 30ms/step - loss: 0.2800 - accuracy: 0.8909 - val_loss: 0.3665 - val_accuracy: 0.8602\n",
      "Epoch 42/50\n",
      "51/51 [==============================] - 1s 29ms/step - loss: 0.2790 - accuracy: 0.8914 - val_loss: 0.3665 - val_accuracy: 0.8609\n",
      "Epoch 43/50\n",
      "51/51 [==============================] - 1s 24ms/step - loss: 0.2780 - accuracy: 0.8916 - val_loss: 0.3675 - val_accuracy: 0.8608\n",
      "Epoch 44/50\n",
      "51/51 [==============================] - 1s 25ms/step - loss: 0.2770 - accuracy: 0.8921 - val_loss: 0.3679 - val_accuracy: 0.8598\n",
      "Epoch 45/50\n",
      "51/51 [==============================] - 1s 25ms/step - loss: 0.2762 - accuracy: 0.8926 - val_loss: 0.3687 - val_accuracy: 0.8599\n",
      "Epoch 46/50\n",
      "51/51 [==============================] - 1s 25ms/step - loss: 0.2751 - accuracy: 0.8930 - val_loss: 0.3689 - val_accuracy: 0.8596\n",
      "Epoch 47/50\n",
      "51/51 [==============================] - 1s 24ms/step - loss: 0.2741 - accuracy: 0.8936 - val_loss: 0.3692 - val_accuracy: 0.8603\n",
      "Epoch 48/50\n",
      "51/51 [==============================] - 1s 25ms/step - loss: 0.2730 - accuracy: 0.8939 - val_loss: 0.3697 - val_accuracy: 0.8599\n",
      "Epoch 49/50\n",
      "51/51 [==============================] - 1s 24ms/step - loss: 0.2722 - accuracy: 0.8944 - val_loss: 0.3706 - val_accuracy: 0.8585\n",
      "Epoch 50/50\n",
      "51/51 [==============================] - 1s 24ms/step - loss: 0.2712 - accuracy: 0.8948 - val_loss: 0.3707 - val_accuracy: 0.8596\n"
     ]
    }
   ],
   "source": [
    "swivel_history = train_and_evaluate(data, val_data, swivel_model)"
   ]
  },
  {
   "cell_type": "code",
   "execution_count": 48,
   "metadata": {
    "tags": []
   },
   "outputs": [
    {
     "data": {
      "text/plain": [
       "<AxesSubplot: >"
      ]
     },
     "execution_count": 48,
     "metadata": {},
     "output_type": "execute_result"
    },
    {
     "data": {
      "image/png": "[encoded data removed]",
      "text/plain": [
       "<Figure size 640x480 with 1 Axes>"
      ]
     },
     "metadata": {},
     "output_type": "display_data"
    },
    {
     "data": {
      "image/png": "[encoded data removed]",
      "text/plain": [
       "<Figure size 640x480 with 1 Axes>"
      ]
     },
     "metadata": {},
     "output_type": "display_data"
    }
   ],
   "source": [
    "history = swivel_history\n",
    "pd.DataFrame(history.history)[['loss', 'val_loss']].plot()\n",
    "pd.DataFrame(history.history)[['accuracy', 'val_accuracy']].plot()"
   ]
  },
  {
   "cell_type": "markdown",
   "metadata": {},
   "source": [
    "Swivel trains faster but achieves a lower validation accuracy, and requires more epochs to train on."
   ]
  },
  {
   "cell_type": "markdown",
   "metadata": {},
   "source": [
    "## Deploying the model"
   ]
  },
  {
   "cell_type": "markdown",
   "metadata": {},
   "source": [
    "The first step is to serialize one of our trained Keras model as a SavedModel:"
   ]
  },
  {
   "cell_type": "code",
   "execution_count": 59,
   "metadata": {
    "tags": []
   },
   "outputs": [
    {
     "name": "stderr",
     "output_type": "stream",
     "text": [
      "WARNING:absl:Found untraced functions such as _destroy_resource while saving (showing 1 of 1). These functions will not be directly callable after loading.\n"
     ]
    },
    {
     "name": "stdout",
     "output_type": "stream",
     "text": [
      "INFO:tensorflow:Assets written to: ./savedmodels/swivel/assets\n"
     ]
    },
    {
     "name": "stderr",
     "output_type": "stream",
     "text": [
      "INFO:tensorflow:Assets written to: ./savedmodels/swivel/assets\n"
     ]
    }
   ],
   "source": [
    "OUTPUT_DIR = \"./savedmodels\"\n",
    "shutil.rmtree(OUTPUT_DIR, ignore_errors=True)\n",
    "\n",
    "EXPORT_PATH = os.path.join(OUTPUT_DIR, 'swivel')\n",
    "os.environ['EXPORT_PATH'] = EXPORT_PATH\n",
    "\n",
    "shutil.rmtree(EXPORT_PATH, ignore_errors=True)\n",
    "\n",
    "tf.saved_model.save(swivel_model, EXPORT_PATH)"
   ]
  },
  {
   "cell_type": "markdown",
   "metadata": {},
   "source": [
    "Then we can deploy the model using the gcloud CLI as before:"
   ]
  },
  {
   "cell_type": "code",
   "execution_count": 56,
   "metadata": {
    "tags": []
   },
   "outputs": [
    {
     "name": "stderr",
     "output_type": "stream",
     "text": [
      "Using endpoint [https://us-central1-ml.googleapis.com/]\n"
     ]
    },
    {
     "name": "stdout",
     "output_type": "stream",
     "text": [
      "title_model already exists\n"
     ]
    },
    {
     "name": "stderr",
     "output_type": "stream",
     "text": [
      "Using endpoint [https://us-central1-ml.googleapis.com/]\n"
     ]
    },
    {
     "name": "stdout",
     "output_type": "stream",
     "text": [
      "Creating title_model:swivel\n"
     ]
    },
    {
     "name": "stderr",
     "output_type": "stream",
     "text": [
      "Using endpoint [https://us-central1-ml.googleapis.com/]\n",
      "ERROR: (gcloud.ai-platform.versions.create) HttpError accessing <https://us-central1-ml.googleapis.com/v1/projects/qwiklabs-gcp-02-74c800cc1cb2/models/title_model/versions?alt=json>: response: <{'vary': 'Origin, X-Origin, Referer', 'content-type': 'application/json; charset=UTF-8', 'content-encoding': 'gzip', 'date': 'Fri, 08 Dec 2023 17:31:32 GMT', 'server': 'ESF', 'cache-control': 'private', 'x-xss-protection': '0', 'x-frame-options': 'SAMEORIGIN', 'x-content-type-options': 'nosniff', 'transfer-encoding': 'chunked', 'status': 429}>, content <{\n",
      "  \"error\": {\n",
      "    \"code\": 429,\n",
      "    \"message\": \"The requested number of n1-standard-4 exceeds the quota limit. Current usage/limit: 0/0, Requested: 8.\",\n",
      "    \"status\": \"RESOURCE_EXHAUSTED\"\n",
      "  }\n",
      "}\n",
      ">\n",
      "This may be due to network connectivity issues. Please check your network settings, and the status of the service you are trying to reach.\n"
     ]
    },
    {
     "ename": "CalledProcessError",
     "evalue": "Command 'b'\\n# TODO 5\\n\\nMODEL_NAME=title_model\\nVERSION_NAME=swivel\\n\\nif [[ $(gcloud ai-platform models list --format=\\'value(name)\\' | grep ^$MODEL_NAME$) ]]; then\\n    echo \"$MODEL_NAME already exists\"\\nelse\\n    echo \"Creating $MODEL_NAME\"\\n    gcloud ai-platform models create --region=$REGION $MODEL_NAME\\nfi\\n\\nif [[ $(gcloud ai-platform versions list --model $MODEL_NAME --format=\\'value(name)\\' | grep ^$VERSION_NAME$) ]]; then\\n    echo \"Deleting already existing $MODEL_NAME:$VERSION_NAME ... \"\\n    echo yes | gcloud ai-platform versions delete --model=$MODEL_NAME $VERSION_NAME\\n    echo \"Please run this cell again if you don\\'t see a Creating message ... \"\\n    sleep 2\\nfi\\n\\necho \"Creating $MODEL_NAME:$VERSION_NAME\"\\ngcloud ai-platform versions create \\\\\\n  --model=$MODEL_NAME $VERSION_NAME \\\\\\n  --framework=tensorflow \\\\\\n  --python-version=3.7 \\\\\\n  --runtime-version=2.1 \\\\\\n  --origin=$EXPORT_PATH \\\\\\n  --staging-bucket=gs://$BUCKET \\\\\\n  --machine-type n1-standard-4 \\\\\\n  --region=$REGION\\n'' returned non-zero exit status 1.",
     "output_type": "error",
     "traceback": [
      "\u001b[0;31m---------------------------------------------------------------------------\u001b[0m",
      "\u001b[0;31mCalledProcessError\u001b[0m                        Traceback (most recent call last)",
      "Cell \u001b[0;32mIn[56], line 1\u001b[0m\n\u001b[0;32m----> 1\u001b[0m \u001b[43mget_ipython\u001b[49m\u001b[43m(\u001b[49m\u001b[43m)\u001b[49m\u001b[38;5;241;43m.\u001b[39;49m\u001b[43mrun_cell_magic\u001b[49m\u001b[43m(\u001b[49m\u001b[38;5;124;43m'\u001b[39;49m\u001b[38;5;124;43mbash\u001b[39;49m\u001b[38;5;124;43m'\u001b[39;49m\u001b[43m,\u001b[49m\u001b[43m \u001b[49m\u001b[38;5;124;43m'\u001b[39;49m\u001b[38;5;124;43m'\u001b[39;49m\u001b[43m,\u001b[49m\u001b[43m \u001b[49m\u001b[38;5;124;43m'\u001b[39;49m\u001b[38;5;130;43;01m\\n\u001b[39;49;00m\u001b[38;5;124;43m# TODO 5\u001b[39;49m\u001b[38;5;130;43;01m\\n\u001b[39;49;00m\u001b[38;5;130;43;01m\\n\u001b[39;49;00m\u001b[38;5;124;43mMODEL_NAME=title_model\u001b[39;49m\u001b[38;5;130;43;01m\\n\u001b[39;49;00m\u001b[38;5;124;43mVERSION_NAME=swivel\u001b[39;49m\u001b[38;5;130;43;01m\\n\u001b[39;49;00m\u001b[38;5;130;43;01m\\n\u001b[39;49;00m\u001b[38;5;124;43mif [[ $(gcloud ai-platform models list --format=\u001b[39;49m\u001b[38;5;130;43;01m\\'\u001b[39;49;00m\u001b[38;5;124;43mvalue(name)\u001b[39;49m\u001b[38;5;130;43;01m\\'\u001b[39;49;00m\u001b[38;5;124;43m | grep ^$MODEL_NAME$) ]]; then\u001b[39;49m\u001b[38;5;130;43;01m\\n\u001b[39;49;00m\u001b[38;5;124;43m    echo \u001b[39;49m\u001b[38;5;124;43m\"\u001b[39;49m\u001b[38;5;124;43m$MODEL_NAME already exists\u001b[39;49m\u001b[38;5;124;43m\"\u001b[39;49m\u001b[38;5;130;43;01m\\n\u001b[39;49;00m\u001b[38;5;124;43melse\u001b[39;49m\u001b[38;5;130;43;01m\\n\u001b[39;49;00m\u001b[38;5;124;43m    echo \u001b[39;49m\u001b[38;5;124;43m\"\u001b[39;49m\u001b[38;5;124;43mCreating $MODEL_NAME\u001b[39;49m\u001b[38;5;124;43m\"\u001b[39;49m\u001b[38;5;130;43;01m\\n\u001b[39;49;00m\u001b[38;5;124;43m    gcloud ai-platform models create --region=$REGION $MODEL_NAME\u001b[39;49m\u001b[38;5;130;43;01m\\n\u001b[39;49;00m\u001b[38;5;124;43mfi\u001b[39;49m\u001b[38;5;130;43;01m\\n\u001b[39;49;00m\u001b[38;5;130;43;01m\\n\u001b[39;49;00m\u001b[38;5;124;43mif [[ $(gcloud ai-platform versions list --model $MODEL_NAME --format=\u001b[39;49m\u001b[38;5;130;43;01m\\'\u001b[39;49;00m\u001b[38;5;124;43mvalue(name)\u001b[39;49m\u001b[38;5;130;43;01m\\'\u001b[39;49;00m\u001b[38;5;124;43m | grep ^$VERSION_NAME$) ]]; then\u001b[39;49m\u001b[38;5;130;43;01m\\n\u001b[39;49;00m\u001b[38;5;124;43m    echo \u001b[39;49m\u001b[38;5;124;43m\"\u001b[39;49m\u001b[38;5;124;43mDeleting already existing $MODEL_NAME:$VERSION_NAME ... \u001b[39;49m\u001b[38;5;124;43m\"\u001b[39;49m\u001b[38;5;130;43;01m\\n\u001b[39;49;00m\u001b[38;5;124;43m    echo yes | gcloud ai-platform versions delete --model=$MODEL_NAME $VERSION_NAME\u001b[39;49m\u001b[38;5;130;43;01m\\n\u001b[39;49;00m\u001b[38;5;124;43m    echo \u001b[39;49m\u001b[38;5;124;43m\"\u001b[39;49m\u001b[38;5;124;43mPlease run this cell again if you don\u001b[39;49m\u001b[38;5;130;43;01m\\'\u001b[39;49;00m\u001b[38;5;124;43mt see a Creating message ... \u001b[39;49m\u001b[38;5;124;43m\"\u001b[39;49m\u001b[38;5;130;43;01m\\n\u001b[39;49;00m\u001b[38;5;124;43m    sleep 2\u001b[39;49m\u001b[38;5;130;43;01m\\n\u001b[39;49;00m\u001b[38;5;124;43mfi\u001b[39;49m\u001b[38;5;130;43;01m\\n\u001b[39;49;00m\u001b[38;5;130;43;01m\\n\u001b[39;49;00m\u001b[38;5;124;43mecho \u001b[39;49m\u001b[38;5;124;43m\"\u001b[39;49m\u001b[38;5;124;43mCreating $MODEL_NAME:$VERSION_NAME\u001b[39;49m\u001b[38;5;124;43m\"\u001b[39;49m\u001b[38;5;130;43;01m\\n\u001b[39;49;00m\u001b[38;5;124;43mgcloud ai-platform versions create \u001b[39;49m\u001b[38;5;130;43;01m\\\\\u001b[39;49;00m\u001b[38;5;130;43;01m\\n\u001b[39;49;00m\u001b[38;5;124;43m  --model=$MODEL_NAME $VERSION_NAME \u001b[39;49m\u001b[38;5;130;43;01m\\\\\u001b[39;49;00m\u001b[38;5;130;43;01m\\n\u001b[39;49;00m\u001b[38;5;124;43m  --framework=tensorflow \u001b[39;49m\u001b[38;5;130;43;01m\\\\\u001b[39;49;00m\u001b[38;5;130;43;01m\\n\u001b[39;49;00m\u001b[38;5;124;43m  --python-version=3.7 \u001b[39;49m\u001b[38;5;130;43;01m\\\\\u001b[39;49;00m\u001b[38;5;130;43;01m\\n\u001b[39;49;00m\u001b[38;5;124;43m  --runtime-version=2.1 \u001b[39;49m\u001b[38;5;130;43;01m\\\\\u001b[39;49;00m\u001b[38;5;130;43;01m\\n\u001b[39;49;00m\u001b[38;5;124;43m  --origin=$EXPORT_PATH \u001b[39;49m\u001b[38;5;130;43;01m\\\\\u001b[39;49;00m\u001b[38;5;130;43;01m\\n\u001b[39;49;00m\u001b[38;5;124;43m  --staging-bucket=gs://$BUCKET \u001b[39;49m\u001b[38;5;130;43;01m\\\\\u001b[39;49;00m\u001b[38;5;130;43;01m\\n\u001b[39;49;00m\u001b[38;5;124;43m  --machine-type n1-standard-4 \u001b[39;49m\u001b[38;5;130;43;01m\\\\\u001b[39;49;00m\u001b[38;5;130;43;01m\\n\u001b[39;49;00m\u001b[38;5;124;43m  --region=$REGION\u001b[39;49m\u001b[38;5;130;43;01m\\n\u001b[39;49;00m\u001b[38;5;124;43m'\u001b[39;49m\u001b[43m)\u001b[49m\n",
      "File \u001b[0;32m/opt/conda/lib/python3.9/site-packages/IPython/core/interactiveshell.py:2515\u001b[0m, in \u001b[0;36mInteractiveShell.run_cell_magic\u001b[0;34m(self, magic_name, line, cell)\u001b[0m\n\u001b[1;32m   2513\u001b[0m \u001b[38;5;28;01mwith\u001b[39;00m \u001b[38;5;28mself\u001b[39m\u001b[38;5;241m.\u001b[39mbuiltin_trap:\n\u001b[1;32m   2514\u001b[0m     args \u001b[38;5;241m=\u001b[39m (magic_arg_s, cell)\n\u001b[0;32m-> 2515\u001b[0m     result \u001b[38;5;241m=\u001b[39m \u001b[43mfn\u001b[49m\u001b[43m(\u001b[49m\u001b[38;5;241;43m*\u001b[39;49m\u001b[43margs\u001b[49m\u001b[43m,\u001b[49m\u001b[43m \u001b[49m\u001b[38;5;241;43m*\u001b[39;49m\u001b[38;5;241;43m*\u001b[39;49m\u001b[43mkwargs\u001b[49m\u001b[43m)\u001b[49m\n\u001b[1;32m   2517\u001b[0m \u001b[38;5;66;03m# The code below prevents the output from being displayed\u001b[39;00m\n\u001b[1;32m   2518\u001b[0m \u001b[38;5;66;03m# when using magics with decorator @output_can_be_silenced\u001b[39;00m\n\u001b[1;32m   2519\u001b[0m \u001b[38;5;66;03m# when the last Python token in the expression is a ';'.\u001b[39;00m\n\u001b[1;32m   2520\u001b[0m \u001b[38;5;28;01mif\u001b[39;00m \u001b[38;5;28mgetattr\u001b[39m(fn, magic\u001b[38;5;241m.\u001b[39mMAGIC_OUTPUT_CAN_BE_SILENCED, \u001b[38;5;28;01mFalse\u001b[39;00m):\n",
      "File \u001b[0;32m/opt/conda/lib/python3.9/site-packages/IPython/core/magics/script.py:154\u001b[0m, in \u001b[0;36mScriptMagics._make_script_magic.<locals>.named_script_magic\u001b[0;34m(line, cell)\u001b[0m\n\u001b[1;32m    152\u001b[0m \u001b[38;5;28;01melse\u001b[39;00m:\n\u001b[1;32m    153\u001b[0m     line \u001b[38;5;241m=\u001b[39m script\n\u001b[0;32m--> 154\u001b[0m \u001b[38;5;28;01mreturn\u001b[39;00m \u001b[38;5;28;43mself\u001b[39;49m\u001b[38;5;241;43m.\u001b[39;49m\u001b[43mshebang\u001b[49m\u001b[43m(\u001b[49m\u001b[43mline\u001b[49m\u001b[43m,\u001b[49m\u001b[43m \u001b[49m\u001b[43mcell\u001b[49m\u001b[43m)\u001b[49m\n",
      "File \u001b[0;32m/opt/conda/lib/python3.9/site-packages/IPython/core/magics/script.py:314\u001b[0m, in \u001b[0;36mScriptMagics.shebang\u001b[0;34m(self, line, cell)\u001b[0m\n\u001b[1;32m    309\u001b[0m \u001b[38;5;28;01mif\u001b[39;00m args\u001b[38;5;241m.\u001b[39mraise_error \u001b[38;5;129;01mand\u001b[39;00m p\u001b[38;5;241m.\u001b[39mreturncode \u001b[38;5;241m!=\u001b[39m \u001b[38;5;241m0\u001b[39m:\n\u001b[1;32m    310\u001b[0m     \u001b[38;5;66;03m# If we get here and p.returncode is still None, we must have\u001b[39;00m\n\u001b[1;32m    311\u001b[0m     \u001b[38;5;66;03m# killed it but not yet seen its return code. We don't wait for it,\u001b[39;00m\n\u001b[1;32m    312\u001b[0m     \u001b[38;5;66;03m# in case it's stuck in uninterruptible sleep. -9 = SIGKILL\u001b[39;00m\n\u001b[1;32m    313\u001b[0m     rc \u001b[38;5;241m=\u001b[39m p\u001b[38;5;241m.\u001b[39mreturncode \u001b[38;5;129;01mor\u001b[39;00m \u001b[38;5;241m-\u001b[39m\u001b[38;5;241m9\u001b[39m\n\u001b[0;32m--> 314\u001b[0m     \u001b[38;5;28;01mraise\u001b[39;00m CalledProcessError(rc, cell)\n",
      "\u001b[0;31mCalledProcessError\u001b[0m: Command 'b'\\n# TODO 5\\n\\nMODEL_NAME=title_model\\nVERSION_NAME=swivel\\n\\nif [[ $(gcloud ai-platform models list --format=\\'value(name)\\' | grep ^$MODEL_NAME$) ]]; then\\n    echo \"$MODEL_NAME already exists\"\\nelse\\n    echo \"Creating $MODEL_NAME\"\\n    gcloud ai-platform models create --region=$REGION $MODEL_NAME\\nfi\\n\\nif [[ $(gcloud ai-platform versions list --model $MODEL_NAME --format=\\'value(name)\\' | grep ^$VERSION_NAME$) ]]; then\\n    echo \"Deleting already existing $MODEL_NAME:$VERSION_NAME ... \"\\n    echo yes | gcloud ai-platform versions delete --model=$MODEL_NAME $VERSION_NAME\\n    echo \"Please run this cell again if you don\\'t see a Creating message ... \"\\n    sleep 2\\nfi\\n\\necho \"Creating $MODEL_NAME:$VERSION_NAME\"\\ngcloud ai-platform versions create \\\\\\n  --model=$MODEL_NAME $VERSION_NAME \\\\\\n  --framework=tensorflow \\\\\\n  --python-version=3.7 \\\\\\n  --runtime-version=2.1 \\\\\\n  --origin=$EXPORT_PATH \\\\\\n  --staging-bucket=gs://$BUCKET \\\\\\n  --machine-type n1-standard-4 \\\\\\n  --region=$REGION\\n'' returned non-zero exit status 1."
     ]
    }
   ],
   "source": [
    "%%bash\n",
    "\n",
    "# TODO 5\n",
    "\n",
    "MODEL_NAME=title_model\n",
    "VERSION_NAME=swivel\n",
    "\n",
    "if [[ $(gcloud ai-platform models list --format='value(name)' | grep ^$MODEL_NAME$) ]]; then\n",
    "    echo \"$MODEL_NAME already exists\"\n",
    "else\n",
    "    echo \"Creating $MODEL_NAME\"\n",
    "    gcloud ai-platform models create --region=$REGION $MODEL_NAME\n",
    "fi\n",
    "\n",
    "if [[ $(gcloud ai-platform versions list --model $MODEL_NAME --format='value(name)' | grep ^$VERSION_NAME$) ]]; then\n",
    "    echo \"Deleting already existing $MODEL_NAME:$VERSION_NAME ... \"\n",
    "    echo yes | gcloud ai-platform versions delete --model=$MODEL_NAME $VERSION_NAME\n",
    "    echo \"Please run this cell again if you don't see a Creating message ... \"\n",
    "    sleep 2\n",
    "fi\n",
    "\n",
    "echo \"Creating $MODEL_NAME:$VERSION_NAME\"\n",
    "gcloud ai-platform versions create \\\n",
    "  --model=$MODEL_NAME $VERSION_NAME \\\n",
    "  --framework=tensorflow \\\n",
    "  --python-version=3.7 \\\n",
    "  --runtime-version=2.1 \\\n",
    "  --origin=$EXPORT_PATH \\\n",
    "  --staging-bucket=gs://$BUCKET \\\n",
    "  --machine-type n1-standard-4 \\\n",
    "  --region=$REGION"
   ]
  },
  {
   "cell_type": "markdown",
   "metadata": {},
   "source": [
    "Before we try our deployed model, let's inspect its signature to know what to send to the deployed API:"
   ]
  },
  {
   "cell_type": "code",
   "execution_count": 57,
   "metadata": {
    "tags": []
   },
   "outputs": [
    {
     "name": "stdout",
     "output_type": "stream",
     "text": [
      "The given SavedModel SignatureDef contains the following input(s):\n",
      "  inputs['keras_layer_1_input'] tensor_info:\n",
      "      dtype: DT_STRING\n",
      "      shape: (-1)\n",
      "      name: serving_default_keras_layer_1_input:0\n",
      "The given SavedModel SignatureDef contains the following output(s):\n",
      "  outputs['dense_3'] tensor_info:\n",
      "      dtype: DT_FLOAT\n",
      "      shape: (-1, 3)\n",
      "      name: StatefulPartitionedCall_2:0\n",
      "Method name is: tensorflow/serving/predict\n",
      "./savedmodels/swivel\n",
      "./savedmodels/swivel/assets\n",
      "./savedmodels/swivel/assets/tokens.txt\n",
      "./savedmodels/swivel/saved_model.pb\n",
      "./savedmodels/swivel/variables\n",
      "./savedmodels/swivel/variables/variables.data-00000-of-00001\n",
      "./savedmodels/swivel/variables/variables.index\n"
     ]
    }
   ],
   "source": [
    "!saved_model_cli show \\\n",
    " --tag_set serve \\\n",
    " --signature_def serving_default \\\n",
    " --dir {EXPORT_PATH}\n",
    "!find {EXPORT_PATH}"
   ]
  },
  {
   "cell_type": "markdown",
   "metadata": {},
   "source": [
    "Let's go ahead and hit our model:"
   ]
  },
  {
   "cell_type": "code",
   "execution_count": 58,
   "metadata": {
    "tags": []
   },
   "outputs": [
    {
     "name": "stdout",
     "output_type": "stream",
     "text": [
      "Overwriting input.json\n"
     ]
    }
   ],
   "source": [
    "%%writefile input.json\n",
    "{\"keras_layer_1_input\": \"hello\"}"
   ]
  },
  {
   "cell_type": "code",
   "execution_count": 55,
   "metadata": {
    "tags": []
   },
   "outputs": [
    {
     "name": "stdout",
     "output_type": "stream",
     "text": [
      "Using endpoint [https://us-central1-ml.googleapis.com/]\n",
      "\u001b[1;31mERROR:\u001b[0m (gcloud.ai-platform.predict) NOT_FOUND: Field: name Error: The specified model version was not found.\n",
      "- '@type': type.googleapis.com/google.rpc.BadRequest\n",
      "  fieldViolations:\n",
      "  - description: The specified model version was not found.\n",
      "    field: name\n"
     ]
    }
   ],
   "source": [
    "!gcloud ai-platform predict \\\n",
    "  --model title_model \\\n",
    "  --json-instances input.json \\\n",
    "  --version swivel \\\n",
    "  --region=$REGION"
   ]
  },
  {
   "cell_type": "markdown",
   "metadata": {},
   "source": [
    "## Bonus"
   ]
  },
  {
   "cell_type": "markdown",
   "metadata": {},
   "source": [
    "Try to beat the best model by modifying the model architecture, changing the TF-Hub embedding, and tweaking the training parameters."
   ]
  },
  {
   "cell_type": "markdown",
   "metadata": {},
   "source": [
    "Copyright 2023 Google Inc. Licensed under the Apache License, Version 2.0 (the \"License\"); you may not use this file except in compliance with the License. You may obtain a copy of the License at http://www.apache.org/licenses/LICENSE-2.0 Unless required by applicable law or agreed to in writing, software distributed under the License is distributed on an \"AS IS\" BASIS, WITHOUT WARRANTIES OR CONDITIONS OF ANY KIND, either express or implied. See the License for the specific language governing permissions and limitations under the License"
   ]
  }
 ],
 "metadata": {
  "environment": {
   "kernel": "python3",
   "name": "tf2-gpu.2-6.m113",
   "type": "gcloud",
   "uri": "gcr.io/deeplearning-platform-release/tf2-gpu.2-6:m113"
  },
  "kernelspec": {
   "display_name": "Python 3",
   "language": "python",
   "name": "python3"
  },
  "language_info": {
   "codemirror_mode": {
    "name": "ipython",
    "version": 3
   },
   "file_extension": ".py",
   "mimetype": "text/x-python",
   "name": "python",
   "nbconvert_exporter": "python",
   "pygments_lexer": "ipython3",
   "version": "3.9.18"
  }
 },
 "nbformat": 4,
 "nbformat_minor": 4
}
